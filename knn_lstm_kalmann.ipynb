{
 "cells": [
  {
   "cell_type": "code",
   "execution_count": 2,
   "id": "781149e2-9045-4113-a8bf-38bac2eb09cf",
   "metadata": {},
   "outputs": [],
   "source": [
    "import matplotlib as mpl\n",
    "import matplotlib.pyplot as plt\n",
    "import numpy as np\n",
    "from random import uniform\n",
    "import pandas as pd\n",
    "import seaborn as sns\n",
    "import tensorflow as tf\n",
    "import pickle"
   ]
  },
  {
   "cell_type": "markdown",
   "id": "1c2aabd8-727f-4ed5-bb3c-ff5149770854",
   "metadata": {},
   "source": [
    "LOADING DATASET"
   ]
  },
  {
   "cell_type": "code",
   "execution_count": 3,
   "id": "06f32bc6-b9ba-4b83-b32d-c43ddc54601e",
   "metadata": {},
   "outputs": [],
   "source": [
    "import scipy"
   ]
  },
  {
   "cell_type": "code",
   "execution_count": 4,
   "id": "8d45f867-83b7-4bfd-807e-c07e4b6fd368",
   "metadata": {},
   "outputs": [
    {
     "data": {
      "text/plain": [
       "'2.6.0'"
      ]
     },
     "execution_count": 4,
     "metadata": {},
     "output_type": "execute_result"
    }
   ],
   "source": [
    "tf.__version__"
   ]
  },
  {
   "cell_type": "markdown",
   "id": "b092eea2-6c2e-49fd-9e37-121b15de75ff",
   "metadata": {},
   "source": [
    "LOADING THE JUNE TEMPORAL DATA"
   ]
  },
  {
   "cell_type": "code",
   "execution_count": 5,
   "id": "fb7a405d-52ac-4772-be29-35dbc46a58b4",
   "metadata": {},
   "outputs": [],
   "source": [
    "#df_data = pickle.load(open(\"arranged_data.csv\", \"rb\"))\n",
    "df_data = pd.read_csv('/home/mbogning/Documents/Master II/implementation/road_prediction/archive/structuration/new_arrange_data.csv')"
   ]
  },
  {
   "cell_type": "markdown",
   "id": "bd95b112-0c53-4022-b913-2c914a1ed998",
   "metadata": {},
   "source": [
    "LODING THE SPACIAL DATA"
   ]
  },
  {
   "cell_type": "code",
   "execution_count": 6,
   "id": "da9d86e0-5d3a-43e2-86f4-d0c3f503afd4",
   "metadata": {},
   "outputs": [],
   "source": [
    "df_loop = pickle.load(open(\"/home/mbogning/Documents/Master II/implementation/road_prediction/archive/structuration/arr_array.csv\", \"rb\"))"
   ]
  },
  {
   "cell_type": "code",
   "execution_count": 7,
   "id": "74c82bb5-9b9a-4eec-97f9-ec1c880eff3b",
   "metadata": {
    "scrolled": true,
    "tags": []
   },
   "outputs": [
    {
     "data": {
      "text/html": [
       "<div>\n",
       "<style scoped>\n",
       "    .dataframe tbody tr th:only-of-type {\n",
       "        vertical-align: middle;\n",
       "    }\n",
       "\n",
       "    .dataframe tbody tr th {\n",
       "        vertical-align: top;\n",
       "    }\n",
       "\n",
       "    .dataframe thead th {\n",
       "        text-align: right;\n",
       "    }\n",
       "</style>\n",
       "<table border=\"1\" class=\"dataframe\">\n",
       "  <thead>\n",
       "    <tr style=\"text-align: right;\">\n",
       "      <th></th>\n",
       "      <th>id</th>\n",
       "      <th>speed</th>\n",
       "      <th>travel_time</th>\n",
       "      <th>status</th>\n",
       "      <th>linkID</th>\n",
       "      <th>StartEnd</th>\n",
       "      <th>TimeStamp</th>\n",
       "      <th>Yd</th>\n",
       "      <th>Xd</th>\n",
       "      <th>destination</th>\n",
       "      <th>dest_time</th>\n",
       "    </tr>\n",
       "  </thead>\n",
       "  <tbody>\n",
       "    <tr>\n",
       "      <th>0</th>\n",
       "      <td>1</td>\n",
       "      <td>21.13</td>\n",
       "      <td>201</td>\n",
       "      <td>0</td>\n",
       "      <td>4616337</td>\n",
       "      <td>((40.74047, -74.00925), (40.76074, -74.00208))</td>\n",
       "      <td>405.833333</td>\n",
       "      <td>-74.00208</td>\n",
       "      <td>40.76074</td>\n",
       "      <td>(40.76074, -74.00208)</td>\n",
       "      <td>606.833333</td>\n",
       "    </tr>\n",
       "    <tr>\n",
       "      <th>1</th>\n",
       "      <td>1</td>\n",
       "      <td>18.02</td>\n",
       "      <td>251</td>\n",
       "      <td>0</td>\n",
       "      <td>4616337</td>\n",
       "      <td>((40.74047, -74.00925), (40.76074, -74.00208))</td>\n",
       "      <td>410.816667</td>\n",
       "      <td>-74.00208</td>\n",
       "      <td>40.76074</td>\n",
       "      <td>(40.76074, -74.00208)</td>\n",
       "      <td>661.816667</td>\n",
       "    </tr>\n",
       "    <tr>\n",
       "      <th>2</th>\n",
       "      <td>1</td>\n",
       "      <td>18.02</td>\n",
       "      <td>251</td>\n",
       "      <td>0</td>\n",
       "      <td>4616337</td>\n",
       "      <td>((40.74047, -74.00925), (40.76074, -74.00208))</td>\n",
       "      <td>415.816667</td>\n",
       "      <td>-74.00208</td>\n",
       "      <td>40.76074</td>\n",
       "      <td>(40.76074, -74.00208)</td>\n",
       "      <td>666.816667</td>\n",
       "    </tr>\n",
       "    <tr>\n",
       "      <th>3</th>\n",
       "      <td>1</td>\n",
       "      <td>16.78</td>\n",
       "      <td>272</td>\n",
       "      <td>0</td>\n",
       "      <td>4616337</td>\n",
       "      <td>((40.74047, -74.00925), (40.76074, -74.00208))</td>\n",
       "      <td>420.833333</td>\n",
       "      <td>-74.00208</td>\n",
       "      <td>40.76074</td>\n",
       "      <td>(40.76074, -74.00208)</td>\n",
       "      <td>692.833333</td>\n",
       "    </tr>\n",
       "    <tr>\n",
       "      <th>4</th>\n",
       "      <td>1</td>\n",
       "      <td>16.16</td>\n",
       "      <td>354</td>\n",
       "      <td>0</td>\n",
       "      <td>4616337</td>\n",
       "      <td>((40.74047, -74.00925), (40.76074, -74.00208))</td>\n",
       "      <td>425.833333</td>\n",
       "      <td>-74.00208</td>\n",
       "      <td>40.76074</td>\n",
       "      <td>(40.76074, -74.00208)</td>\n",
       "      <td>779.833333</td>\n",
       "    </tr>\n",
       "    <tr>\n",
       "      <th>...</th>\n",
       "      <td>...</td>\n",
       "      <td>...</td>\n",
       "      <td>...</td>\n",
       "      <td>...</td>\n",
       "      <td>...</td>\n",
       "      <td>...</td>\n",
       "      <td>...</td>\n",
       "      <td>...</td>\n",
       "      <td>...</td>\n",
       "      <td>...</td>\n",
       "      <td>...</td>\n",
       "    </tr>\n",
       "    <tr>\n",
       "      <th>1130503</th>\n",
       "      <td>338</td>\n",
       "      <td>47.22</td>\n",
       "      <td>109</td>\n",
       "      <td>0</td>\n",
       "      <td>4616255</td>\n",
       "      <td>((40.74047, -74.00925), (40.76074, -74.00208))</td>\n",
       "      <td>1415.550000</td>\n",
       "      <td>-74.00208</td>\n",
       "      <td>40.76074</td>\n",
       "      <td>(40.76074, -74.00208)</td>\n",
       "      <td>1524.550000</td>\n",
       "    </tr>\n",
       "    <tr>\n",
       "      <th>1130504</th>\n",
       "      <td>338</td>\n",
       "      <td>42.87</td>\n",
       "      <td>119</td>\n",
       "      <td>0</td>\n",
       "      <td>4616255</td>\n",
       "      <td>((40.74047, -74.00925), (40.76074, -74.00208))</td>\n",
       "      <td>1420.533333</td>\n",
       "      <td>-74.00208</td>\n",
       "      <td>40.76074</td>\n",
       "      <td>(40.76074, -74.00208)</td>\n",
       "      <td>1539.533333</td>\n",
       "    </tr>\n",
       "    <tr>\n",
       "      <th>1130505</th>\n",
       "      <td>338</td>\n",
       "      <td>47.22</td>\n",
       "      <td>109</td>\n",
       "      <td>0</td>\n",
       "      <td>4616255</td>\n",
       "      <td>((40.74047, -74.00925), (40.76074, -74.00208))</td>\n",
       "      <td>1425.533333</td>\n",
       "      <td>-74.00208</td>\n",
       "      <td>40.76074</td>\n",
       "      <td>(40.76074, -74.00208)</td>\n",
       "      <td>1534.533333</td>\n",
       "    </tr>\n",
       "    <tr>\n",
       "      <th>1130506</th>\n",
       "      <td>338</td>\n",
       "      <td>45.98</td>\n",
       "      <td>110</td>\n",
       "      <td>0</td>\n",
       "      <td>4616255</td>\n",
       "      <td>((40.74047, -74.00925), (40.76074, -74.00208))</td>\n",
       "      <td>1430.550000</td>\n",
       "      <td>-74.00208</td>\n",
       "      <td>40.76074</td>\n",
       "      <td>(40.76074, -74.00208)</td>\n",
       "      <td>1540.550000</td>\n",
       "    </tr>\n",
       "    <tr>\n",
       "      <th>1130507</th>\n",
       "      <td>338</td>\n",
       "      <td>47.85</td>\n",
       "      <td>106</td>\n",
       "      <td>0</td>\n",
       "      <td>4616255</td>\n",
       "      <td>((40.74047, -74.00925), (40.76074, -74.00208))</td>\n",
       "      <td>1435.533333</td>\n",
       "      <td>-74.00208</td>\n",
       "      <td>40.76074</td>\n",
       "      <td>(40.76074, -74.00208)</td>\n",
       "      <td>1541.533333</td>\n",
       "    </tr>\n",
       "  </tbody>\n",
       "</table>\n",
       "<p>1130508 rows × 11 columns</p>\n",
       "</div>"
      ],
      "text/plain": [
       "          id  speed  travel_time  status   linkID  \\\n",
       "0          1  21.13          201       0  4616337   \n",
       "1          1  18.02          251       0  4616337   \n",
       "2          1  18.02          251       0  4616337   \n",
       "3          1  16.78          272       0  4616337   \n",
       "4          1  16.16          354       0  4616337   \n",
       "...      ...    ...          ...     ...      ...   \n",
       "1130503  338  47.22          109       0  4616255   \n",
       "1130504  338  42.87          119       0  4616255   \n",
       "1130505  338  47.22          109       0  4616255   \n",
       "1130506  338  45.98          110       0  4616255   \n",
       "1130507  338  47.85          106       0  4616255   \n",
       "\n",
       "                                               StartEnd    TimeStamp  \\\n",
       "0        ((40.74047, -74.00925), (40.76074, -74.00208))   405.833333   \n",
       "1        ((40.74047, -74.00925), (40.76074, -74.00208))   410.816667   \n",
       "2        ((40.74047, -74.00925), (40.76074, -74.00208))   415.816667   \n",
       "3        ((40.74047, -74.00925), (40.76074, -74.00208))   420.833333   \n",
       "4        ((40.74047, -74.00925), (40.76074, -74.00208))   425.833333   \n",
       "...                                                 ...          ...   \n",
       "1130503  ((40.74047, -74.00925), (40.76074, -74.00208))  1415.550000   \n",
       "1130504  ((40.74047, -74.00925), (40.76074, -74.00208))  1420.533333   \n",
       "1130505  ((40.74047, -74.00925), (40.76074, -74.00208))  1425.533333   \n",
       "1130506  ((40.74047, -74.00925), (40.76074, -74.00208))  1430.550000   \n",
       "1130507  ((40.74047, -74.00925), (40.76074, -74.00208))  1435.533333   \n",
       "\n",
       "               Yd        Xd            destination    dest_time  \n",
       "0       -74.00208  40.76074  (40.76074, -74.00208)   606.833333  \n",
       "1       -74.00208  40.76074  (40.76074, -74.00208)   661.816667  \n",
       "2       -74.00208  40.76074  (40.76074, -74.00208)   666.816667  \n",
       "3       -74.00208  40.76074  (40.76074, -74.00208)   692.833333  \n",
       "4       -74.00208  40.76074  (40.76074, -74.00208)   779.833333  \n",
       "...           ...       ...                    ...          ...  \n",
       "1130503 -74.00208  40.76074  (40.76074, -74.00208)  1524.550000  \n",
       "1130504 -74.00208  40.76074  (40.76074, -74.00208)  1539.533333  \n",
       "1130505 -74.00208  40.76074  (40.76074, -74.00208)  1534.533333  \n",
       "1130506 -74.00208  40.76074  (40.76074, -74.00208)  1540.550000  \n",
       "1130507 -74.00208  40.76074  (40.76074, -74.00208)  1541.533333  \n",
       "\n",
       "[1130508 rows x 11 columns]"
      ]
     },
     "execution_count": 7,
     "metadata": {},
     "output_type": "execute_result"
    }
   ],
   "source": [
    "df_data"
   ]
  },
  {
   "cell_type": "code",
   "execution_count": 8,
   "id": "a2bf5047-b028-4fd5-8a35-d2a45ebba6ee",
   "metadata": {},
   "outputs": [],
   "source": [
    "times = df_data['TimeStamp']"
   ]
  },
  {
   "cell_type": "code",
   "execution_count": 9,
   "id": "90dcb3e3-d8e2-4052-b5fe-f3b67537962a",
   "metadata": {
    "scrolled": true,
    "tags": []
   },
   "outputs": [
    {
     "data": {
      "text/plain": [
       "array([[[ 40.72619, -74.01113],\n",
       "        [ 40.73939, -74.01002],\n",
       "        [ 40.77151, -73.9942 ],\n",
       "        [ 40.7637 , -73.99921],\n",
       "        [ 40.62098, -74.16892]],\n",
       "\n",
       "       [[ 40.73939, -74.01002],\n",
       "        [ 40.77151, -73.9942 ],\n",
       "        [ 40.7637 , -73.99921],\n",
       "        [ 40.62098, -74.16892],\n",
       "        [ 40.60212, -74.18802]],\n",
       "\n",
       "       [[ 40.77151, -73.9942 ],\n",
       "        [ 40.7637 , -73.99921],\n",
       "        [ 40.62098, -74.16892],\n",
       "        [ 40.60212, -74.18802],\n",
       "        [ 40.52638, -74.27008]],\n",
       "\n",
       "       ...,\n",
       "\n",
       "       [[ 40.91229, -73.87525],\n",
       "        [ 40.79779, -73.7932 ],\n",
       "        [ 40.83874, -73.82571],\n",
       "        [ 40.83883, -73.82526],\n",
       "        [ 40.82408, -73.87432]],\n",
       "\n",
       "       [[ 40.79779, -73.7932 ],\n",
       "        [ 40.83874, -73.82571],\n",
       "        [ 40.83883, -73.82526],\n",
       "        [ 40.82408, -73.87432],\n",
       "        [ 40.72619, -74.01113]],\n",
       "\n",
       "       [[ 40.83874, -73.82571],\n",
       "        [ 40.83883, -73.82526],\n",
       "        [ 40.82408, -73.87432],\n",
       "        [ 40.72619, -74.01113],\n",
       "        [ 40.76074, -74.00208]]])"
      ]
     },
     "execution_count": 9,
     "metadata": {},
     "output_type": "execute_result"
    }
   ],
   "source": [
    "df_loop"
   ]
  },
  {
   "cell_type": "markdown",
   "id": "44d1ed98-61ed-4ca6-8b8f-d5dc8c6233c4",
   "metadata": {},
   "source": [
    "EXTRACTING THE TEMPORAL VARIABLES"
   ]
  },
  {
   "cell_type": "code",
   "execution_count": 10,
   "id": "0683f8de-adc5-4f2f-ad7b-14989974e7b4",
   "metadata": {},
   "outputs": [],
   "source": [
    "data = df_data[['TimeStamp', 'speed']]"
   ]
  },
  {
   "cell_type": "code",
   "execution_count": 11,
   "id": "e2e21ff0-7e6c-4434-bda1-86778cfdb435",
   "metadata": {
    "scrolled": true,
    "tags": []
   },
   "outputs": [
    {
     "data": {
      "text/html": [
       "<div>\n",
       "<style scoped>\n",
       "    .dataframe tbody tr th:only-of-type {\n",
       "        vertical-align: middle;\n",
       "    }\n",
       "\n",
       "    .dataframe tbody tr th {\n",
       "        vertical-align: top;\n",
       "    }\n",
       "\n",
       "    .dataframe thead th {\n",
       "        text-align: right;\n",
       "    }\n",
       "</style>\n",
       "<table border=\"1\" class=\"dataframe\">\n",
       "  <thead>\n",
       "    <tr style=\"text-align: right;\">\n",
       "      <th></th>\n",
       "      <th>TimeStamp</th>\n",
       "      <th>speed</th>\n",
       "    </tr>\n",
       "  </thead>\n",
       "  <tbody>\n",
       "    <tr>\n",
       "      <th>0</th>\n",
       "      <td>405.833333</td>\n",
       "      <td>21.13</td>\n",
       "    </tr>\n",
       "    <tr>\n",
       "      <th>1</th>\n",
       "      <td>410.816667</td>\n",
       "      <td>18.02</td>\n",
       "    </tr>\n",
       "    <tr>\n",
       "      <th>2</th>\n",
       "      <td>415.816667</td>\n",
       "      <td>18.02</td>\n",
       "    </tr>\n",
       "    <tr>\n",
       "      <th>3</th>\n",
       "      <td>420.833333</td>\n",
       "      <td>16.78</td>\n",
       "    </tr>\n",
       "    <tr>\n",
       "      <th>4</th>\n",
       "      <td>425.833333</td>\n",
       "      <td>16.16</td>\n",
       "    </tr>\n",
       "    <tr>\n",
       "      <th>...</th>\n",
       "      <td>...</td>\n",
       "      <td>...</td>\n",
       "    </tr>\n",
       "    <tr>\n",
       "      <th>1130503</th>\n",
       "      <td>1415.550000</td>\n",
       "      <td>47.22</td>\n",
       "    </tr>\n",
       "    <tr>\n",
       "      <th>1130504</th>\n",
       "      <td>1420.533333</td>\n",
       "      <td>42.87</td>\n",
       "    </tr>\n",
       "    <tr>\n",
       "      <th>1130505</th>\n",
       "      <td>1425.533333</td>\n",
       "      <td>47.22</td>\n",
       "    </tr>\n",
       "    <tr>\n",
       "      <th>1130506</th>\n",
       "      <td>1430.550000</td>\n",
       "      <td>45.98</td>\n",
       "    </tr>\n",
       "    <tr>\n",
       "      <th>1130507</th>\n",
       "      <td>1435.533333</td>\n",
       "      <td>47.85</td>\n",
       "    </tr>\n",
       "  </tbody>\n",
       "</table>\n",
       "<p>1130508 rows × 2 columns</p>\n",
       "</div>"
      ],
      "text/plain": [
       "           TimeStamp  speed\n",
       "0         405.833333  21.13\n",
       "1         410.816667  18.02\n",
       "2         415.816667  18.02\n",
       "3         420.833333  16.78\n",
       "4         425.833333  16.16\n",
       "...              ...    ...\n",
       "1130503  1415.550000  47.22\n",
       "1130504  1420.533333  42.87\n",
       "1130505  1425.533333  47.22\n",
       "1130506  1430.550000  45.98\n",
       "1130507  1435.533333  47.85\n",
       "\n",
       "[1130508 rows x 2 columns]"
      ]
     },
     "execution_count": 11,
     "metadata": {},
     "output_type": "execute_result"
    }
   ],
   "source": [
    "data"
   ]
  },
  {
   "cell_type": "code",
   "execution_count": 12,
   "id": "e63b50a0-ed42-48ff-ad52-f4f97ccd14cb",
   "metadata": {},
   "outputs": [
    {
     "data": {
      "text/plain": [
       "<AxesSubplot:>"
      ]
     },
     "execution_count": 12,
     "metadata": {},
     "output_type": "execute_result"
    },
    {
     "data": {
      "image/png": "[encoded data removed]",
      "text/plain": [
       "<Figure size 432x288 with 1 Axes>"
      ]
     },
     "metadata": {
      "needs_background": "light"
     },
     "output_type": "display_data"
    }
   ],
   "source": [
    "data['speed'].plot()"
   ]
  },
  {
   "cell_type": "code",
   "execution_count": 13,
   "id": "b25b8925-4c86-4ed4-8c14-fc164d3bbcb8",
   "metadata": {},
   "outputs": [],
   "source": [
    "speed = np.array(data['speed'])"
   ]
  },
  {
   "cell_type": "markdown",
   "id": "c812d6cd-bc03-447f-ad0a-77ea5d52a797",
   "metadata": {},
   "source": [
    "SMOOTHENING USING MOVING AVERAGE ALGORITM"
   ]
  },
  {
   "cell_type": "code",
   "execution_count": 14,
   "id": "276d5d95-adb3-4ef0-8509-7ae76507ccee",
   "metadata": {},
   "outputs": [],
   "source": [
    "smoothen_data = []\n",
    "for i in range(len(speed)):\n",
    "    if i > 4:\n",
    "        sma = np.mean(speed[i-4:i+1])\n",
    "        smoothen_data.append(sma)\n",
    "    if i <= 4:\n",
    "        smoothen_data.append(speed[i])"
   ]
  },
  {
   "cell_type": "code",
   "execution_count": 15,
   "id": "825612c1-4311-4cf0-98b1-111bb700b056",
   "metadata": {
    "scrolled": true,
    "tags": []
   },
   "outputs": [],
   "source": [
    "labels={'speed':smoothen_data,\n",
    "        'time':data['TimeStamp']\n",
    "    \n",
    "}\n",
    "df_frame = pd.DataFrame(data=labels)"
   ]
  },
  {
   "cell_type": "code",
   "execution_count": 16,
   "id": "cc8cda08-c90d-4248-b126-3884ad97a0a4",
   "metadata": {},
   "outputs": [
    {
     "data": {
      "text/html": [
       "<div>\n",
       "<style scoped>\n",
       "    .dataframe tbody tr th:only-of-type {\n",
       "        vertical-align: middle;\n",
       "    }\n",
       "\n",
       "    .dataframe tbody tr th {\n",
       "        vertical-align: top;\n",
       "    }\n",
       "\n",
       "    .dataframe thead th {\n",
       "        text-align: right;\n",
       "    }\n",
       "</style>\n",
       "<table border=\"1\" class=\"dataframe\">\n",
       "  <thead>\n",
       "    <tr style=\"text-align: right;\">\n",
       "      <th></th>\n",
       "      <th>speed</th>\n",
       "      <th>time</th>\n",
       "    </tr>\n",
       "  </thead>\n",
       "  <tbody>\n",
       "    <tr>\n",
       "      <th>0</th>\n",
       "      <td>21.130</td>\n",
       "      <td>405.833333</td>\n",
       "    </tr>\n",
       "    <tr>\n",
       "      <th>1</th>\n",
       "      <td>18.020</td>\n",
       "      <td>410.816667</td>\n",
       "    </tr>\n",
       "    <tr>\n",
       "      <th>2</th>\n",
       "      <td>18.020</td>\n",
       "      <td>415.816667</td>\n",
       "    </tr>\n",
       "    <tr>\n",
       "      <th>3</th>\n",
       "      <td>16.780</td>\n",
       "      <td>420.833333</td>\n",
       "    </tr>\n",
       "    <tr>\n",
       "      <th>4</th>\n",
       "      <td>16.160</td>\n",
       "      <td>425.833333</td>\n",
       "    </tr>\n",
       "    <tr>\n",
       "      <th>...</th>\n",
       "      <td>...</td>\n",
       "      <td>...</td>\n",
       "    </tr>\n",
       "    <tr>\n",
       "      <th>1130503</th>\n",
       "      <td>46.726</td>\n",
       "      <td>1415.550000</td>\n",
       "    </tr>\n",
       "    <tr>\n",
       "      <th>1130504</th>\n",
       "      <td>46.104</td>\n",
       "      <td>1420.533333</td>\n",
       "    </tr>\n",
       "    <tr>\n",
       "      <th>1130505</th>\n",
       "      <td>46.724</td>\n",
       "      <td>1425.533333</td>\n",
       "    </tr>\n",
       "    <tr>\n",
       "      <th>1130506</th>\n",
       "      <td>46.102</td>\n",
       "      <td>1430.550000</td>\n",
       "    </tr>\n",
       "    <tr>\n",
       "      <th>1130507</th>\n",
       "      <td>46.228</td>\n",
       "      <td>1435.533333</td>\n",
       "    </tr>\n",
       "  </tbody>\n",
       "</table>\n",
       "<p>1130508 rows × 2 columns</p>\n",
       "</div>"
      ],
      "text/plain": [
       "          speed         time\n",
       "0        21.130   405.833333\n",
       "1        18.020   410.816667\n",
       "2        18.020   415.816667\n",
       "3        16.780   420.833333\n",
       "4        16.160   425.833333\n",
       "...         ...          ...\n",
       "1130503  46.726  1415.550000\n",
       "1130504  46.104  1420.533333\n",
       "1130505  46.724  1425.533333\n",
       "1130506  46.102  1430.550000\n",
       "1130507  46.228  1435.533333\n",
       "\n",
       "[1130508 rows x 2 columns]"
      ]
     },
     "execution_count": 16,
     "metadata": {},
     "output_type": "execute_result"
    }
   ],
   "source": [
    "df_frame"
   ]
  },
  {
   "cell_type": "code",
   "execution_count": 17,
   "id": "cad72f69-583b-470a-b380-88bf56e027c9",
   "metadata": {},
   "outputs": [
    {
     "data": {
      "text/plain": [
       "<AxesSubplot:>"
      ]
     },
     "execution_count": 17,
     "metadata": {},
     "output_type": "execute_result"
    },
    {
     "data": {
      "image/png": "[encoded data removed]",
      "text/plain": [
       "<Figure size 432x288 with 1 Axes>"
      ]
     },
     "metadata": {
      "needs_background": "light"
     },
     "output_type": "display_data"
    }
   ],
   "source": [
    "df_frame['speed'].plot()"
   ]
  },
  {
   "cell_type": "code",
   "execution_count": 18,
   "id": "d1be5f95-3386-4412-a25f-4e4fc31bedb0",
   "metadata": {},
   "outputs": [
    {
     "data": {
      "text/plain": [
       "(1130508, 2)"
      ]
     },
     "execution_count": 18,
     "metadata": {},
     "output_type": "execute_result"
    }
   ],
   "source": [
    "df_frame.values.shape"
   ]
  },
  {
   "cell_type": "code",
   "execution_count": 19,
   "id": "f0be0b31-ceda-4c1e-a106-714f096a353b",
   "metadata": {},
   "outputs": [
    {
     "data": {
      "text/html": [
       "<div>\n",
       "<style scoped>\n",
       "    .dataframe tbody tr th:only-of-type {\n",
       "        vertical-align: middle;\n",
       "    }\n",
       "\n",
       "    .dataframe tbody tr th {\n",
       "        vertical-align: top;\n",
       "    }\n",
       "\n",
       "    .dataframe thead th {\n",
       "        text-align: right;\n",
       "    }\n",
       "</style>\n",
       "<table border=\"1\" class=\"dataframe\">\n",
       "  <thead>\n",
       "    <tr style=\"text-align: right;\">\n",
       "      <th></th>\n",
       "      <th>speed</th>\n",
       "      <th>time</th>\n",
       "    </tr>\n",
       "  </thead>\n",
       "  <tbody>\n",
       "    <tr>\n",
       "      <th>count</th>\n",
       "      <td>1.130508e+06</td>\n",
       "      <td>1.130508e+06</td>\n",
       "    </tr>\n",
       "    <tr>\n",
       "      <th>mean</th>\n",
       "      <td>3.904918e+01</td>\n",
       "      <td>7.427846e+02</td>\n",
       "    </tr>\n",
       "    <tr>\n",
       "      <th>std</th>\n",
       "      <td>1.679037e+01</td>\n",
       "      <td>4.156516e+02</td>\n",
       "    </tr>\n",
       "    <tr>\n",
       "      <th>min</th>\n",
       "      <td>0.000000e+00</td>\n",
       "      <td>5.000000e-02</td>\n",
       "    </tr>\n",
       "    <tr>\n",
       "      <th>25%</th>\n",
       "      <td>2.485400e+01</td>\n",
       "      <td>3.919167e+02</td>\n",
       "    </tr>\n",
       "    <tr>\n",
       "      <th>50%</th>\n",
       "      <td>4.337000e+01</td>\n",
       "      <td>7.514667e+02</td>\n",
       "    </tr>\n",
       "    <tr>\n",
       "      <th>75%</th>\n",
       "      <td>5.282000e+01</td>\n",
       "      <td>1.105117e+03</td>\n",
       "    </tr>\n",
       "    <tr>\n",
       "      <th>max</th>\n",
       "      <td>1.864100e+02</td>\n",
       "      <td>1.439750e+03</td>\n",
       "    </tr>\n",
       "  </tbody>\n",
       "</table>\n",
       "</div>"
      ],
      "text/plain": [
       "              speed          time\n",
       "count  1.130508e+06  1.130508e+06\n",
       "mean   3.904918e+01  7.427846e+02\n",
       "std    1.679037e+01  4.156516e+02\n",
       "min    0.000000e+00  5.000000e-02\n",
       "25%    2.485400e+01  3.919167e+02\n",
       "50%    4.337000e+01  7.514667e+02\n",
       "75%    5.282000e+01  1.105117e+03\n",
       "max    1.864100e+02  1.439750e+03"
      ]
     },
     "execution_count": 19,
     "metadata": {},
     "output_type": "execute_result"
    }
   ],
   "source": [
    "df_frame.describe()"
   ]
  },
  {
   "cell_type": "markdown",
   "id": "34ee1956-6587-4bcc-a8ed-73f287dcf8e1",
   "metadata": {},
   "source": [
    "CREATING OUR SEQUENCE OF 25 MIN"
   ]
  },
  {
   "cell_type": "code",
   "execution_count": 20,
   "id": "39440c22-30b3-4786-b07d-c1f5f3baf98b",
   "metadata": {},
   "outputs": [],
   "source": [
    "target_names =['speed']"
   ]
  },
  {
   "cell_type": "code",
   "execution_count": 21,
   "id": "a4e0eb8f-a10a-4714-82e0-b90a85dc6a1c",
   "metadata": {},
   "outputs": [],
   "source": [
    "shift_days = 1\n",
    "shift_steps = shift_days * 5"
   ]
  },
  {
   "cell_type": "code",
   "execution_count": 22,
   "id": "88924faa-43f2-4a07-934e-e91995c63ca0",
   "metadata": {},
   "outputs": [],
   "source": [
    "df_targets = df_frame.shift(-shift_steps)"
   ]
  },
  {
   "cell_type": "code",
   "execution_count": 23,
   "id": "e187002d-e486-4893-8531-18b02441fba4",
   "metadata": {
    "scrolled": true,
    "tags": []
   },
   "outputs": [
    {
     "data": {
      "text/html": [
       "<div>\n",
       "<style scoped>\n",
       "    .dataframe tbody tr th:only-of-type {\n",
       "        vertical-align: middle;\n",
       "    }\n",
       "\n",
       "    .dataframe tbody tr th {\n",
       "        vertical-align: top;\n",
       "    }\n",
       "\n",
       "    .dataframe thead th {\n",
       "        text-align: right;\n",
       "    }\n",
       "</style>\n",
       "<table border=\"1\" class=\"dataframe\">\n",
       "  <thead>\n",
       "    <tr style=\"text-align: right;\">\n",
       "      <th></th>\n",
       "      <th>speed</th>\n",
       "      <th>time</th>\n",
       "    </tr>\n",
       "  </thead>\n",
       "  <tbody>\n",
       "    <tr>\n",
       "      <th>0</th>\n",
       "      <td>21.130</td>\n",
       "      <td>405.833333</td>\n",
       "    </tr>\n",
       "    <tr>\n",
       "      <th>1</th>\n",
       "      <td>18.020</td>\n",
       "      <td>410.816667</td>\n",
       "    </tr>\n",
       "    <tr>\n",
       "      <th>2</th>\n",
       "      <td>18.020</td>\n",
       "      <td>415.816667</td>\n",
       "    </tr>\n",
       "    <tr>\n",
       "      <th>3</th>\n",
       "      <td>16.780</td>\n",
       "      <td>420.833333</td>\n",
       "    </tr>\n",
       "    <tr>\n",
       "      <th>4</th>\n",
       "      <td>16.160</td>\n",
       "      <td>425.833333</td>\n",
       "    </tr>\n",
       "    <tr>\n",
       "      <th>5</th>\n",
       "      <td>16.778</td>\n",
       "      <td>430.833333</td>\n",
       "    </tr>\n",
       "    <tr>\n",
       "      <th>6</th>\n",
       "      <td>16.406</td>\n",
       "      <td>435.816667</td>\n",
       "    </tr>\n",
       "    <tr>\n",
       "      <th>7</th>\n",
       "      <td>16.034</td>\n",
       "      <td>440.833333</td>\n",
       "    </tr>\n",
       "    <tr>\n",
       "      <th>8</th>\n",
       "      <td>15.536</td>\n",
       "      <td>445.816667</td>\n",
       "    </tr>\n",
       "    <tr>\n",
       "      <th>9</th>\n",
       "      <td>14.292</td>\n",
       "      <td>450.816667</td>\n",
       "    </tr>\n",
       "  </tbody>\n",
       "</table>\n",
       "</div>"
      ],
      "text/plain": [
       "    speed        time\n",
       "0  21.130  405.833333\n",
       "1  18.020  410.816667\n",
       "2  18.020  415.816667\n",
       "3  16.780  420.833333\n",
       "4  16.160  425.833333\n",
       "5  16.778  430.833333\n",
       "6  16.406  435.816667\n",
       "7  16.034  440.833333\n",
       "8  15.536  445.816667\n",
       "9  14.292  450.816667"
      ]
     },
     "execution_count": 23,
     "metadata": {},
     "output_type": "execute_result"
    }
   ],
   "source": [
    "df_frame.head(shift_steps + 5)"
   ]
  },
  {
   "cell_type": "code",
   "execution_count": 24,
   "id": "c88918f4-e671-466f-8006-3090aac38f1c",
   "metadata": {},
   "outputs": [
    {
     "data": {
      "text/html": [
       "<div>\n",
       "<style scoped>\n",
       "    .dataframe tbody tr th:only-of-type {\n",
       "        vertical-align: middle;\n",
       "    }\n",
       "\n",
       "    .dataframe tbody tr th {\n",
       "        vertical-align: top;\n",
       "    }\n",
       "\n",
       "    .dataframe thead th {\n",
       "        text-align: right;\n",
       "    }\n",
       "</style>\n",
       "<table border=\"1\" class=\"dataframe\">\n",
       "  <thead>\n",
       "    <tr style=\"text-align: right;\">\n",
       "      <th></th>\n",
       "      <th>speed</th>\n",
       "      <th>time</th>\n",
       "    </tr>\n",
       "  </thead>\n",
       "  <tbody>\n",
       "    <tr>\n",
       "      <th>0</th>\n",
       "      <td>16.778</td>\n",
       "      <td>430.833333</td>\n",
       "    </tr>\n",
       "    <tr>\n",
       "      <th>1</th>\n",
       "      <td>16.406</td>\n",
       "      <td>435.816667</td>\n",
       "    </tr>\n",
       "    <tr>\n",
       "      <th>2</th>\n",
       "      <td>16.034</td>\n",
       "      <td>440.833333</td>\n",
       "    </tr>\n",
       "    <tr>\n",
       "      <th>3</th>\n",
       "      <td>15.536</td>\n",
       "      <td>445.816667</td>\n",
       "    </tr>\n",
       "    <tr>\n",
       "      <th>4</th>\n",
       "      <td>14.292</td>\n",
       "      <td>450.816667</td>\n",
       "    </tr>\n",
       "  </tbody>\n",
       "</table>\n",
       "</div>"
      ],
      "text/plain": [
       "    speed        time\n",
       "0  16.778  430.833333\n",
       "1  16.406  435.816667\n",
       "2  16.034  440.833333\n",
       "3  15.536  445.816667\n",
       "4  14.292  450.816667"
      ]
     },
     "execution_count": 24,
     "metadata": {},
     "output_type": "execute_result"
    }
   ],
   "source": [
    "df_targets.head(5)"
   ]
  },
  {
   "cell_type": "markdown",
   "id": "7fef4a33-4829-4b80-9508-157bf6ecf40d",
   "metadata": {},
   "source": [
    "SEPERATING OUR DATA INTO TEST AND TRAIN DATA"
   ]
  },
  {
   "cell_type": "code",
   "execution_count": 25,
   "id": "0a0d0a1a-a436-4e8c-9726-10efbafb5965",
   "metadata": {},
   "outputs": [],
   "source": [
    "x_data = df_frame.values[0:-shift_steps]"
   ]
  },
  {
   "cell_type": "code",
   "execution_count": 26,
   "id": "6c1be4f1-d889-4963-b4e0-e411341d11c7",
   "metadata": {},
   "outputs": [
    {
     "name": "stdout",
     "output_type": "stream",
     "text": [
      "<class 'numpy.ndarray'>\n",
      "Shape: (1130503, 2)\n"
     ]
    }
   ],
   "source": [
    "print(type(x_data))\n",
    "print(\"Shape:\", x_data.shape)"
   ]
  },
  {
   "cell_type": "code",
   "execution_count": 27,
   "id": "a79dcdd9-7ac2-4b23-9f88-15ebd4f0e726",
   "metadata": {},
   "outputs": [],
   "source": [
    "y_data = df_targets.values[:-shift_steps]"
   ]
  },
  {
   "cell_type": "code",
   "execution_count": 28,
   "id": "73d9cb76-2de6-4002-bf2f-aa843ef7ce42",
   "metadata": {},
   "outputs": [
    {
     "name": "stdout",
     "output_type": "stream",
     "text": [
      "<class 'numpy.ndarray'>\n",
      "Shape: (1130503, 2)\n"
     ]
    }
   ],
   "source": [
    "print(type(y_data))\n",
    "print(\"Shape:\", y_data.shape)"
   ]
  },
  {
   "cell_type": "code",
   "execution_count": 29,
   "id": "848e684c-0e47-4615-802f-378209d29e40",
   "metadata": {},
   "outputs": [
    {
     "data": {
      "text/plain": [
       "1130503"
      ]
     },
     "execution_count": 29,
     "metadata": {},
     "output_type": "execute_result"
    }
   ],
   "source": [
    "num_data = len(x_data)\n",
    "num_data"
   ]
  },
  {
   "cell_type": "code",
   "execution_count": 30,
   "id": "32d067ff-d30f-4c72-bfb4-9b59e7250644",
   "metadata": {},
   "outputs": [],
   "source": [
    "train_split = 0.8"
   ]
  },
  {
   "cell_type": "code",
   "execution_count": 31,
   "id": "45e380e2-7185-4349-8350-c0cbae3627cd",
   "metadata": {},
   "outputs": [
    {
     "data": {
      "text/plain": [
       "904402"
      ]
     },
     "execution_count": 31,
     "metadata": {},
     "output_type": "execute_result"
    }
   ],
   "source": [
    "num_train = int(train_split * num_data)\n",
    "num_train"
   ]
  },
  {
   "cell_type": "code",
   "execution_count": 32,
   "id": "51d677ec-beb4-4dc3-b1ff-5fd50ba5d71e",
   "metadata": {},
   "outputs": [
    {
     "data": {
      "text/plain": [
       "226101"
      ]
     },
     "execution_count": 32,
     "metadata": {},
     "output_type": "execute_result"
    }
   ],
   "source": [
    "num_test = num_data - num_train\n",
    "num_test"
   ]
  },
  {
   "cell_type": "code",
   "execution_count": 33,
   "id": "3923b694-a911-4ea0-9247-ed6081270ec1",
   "metadata": {},
   "outputs": [
    {
     "data": {
      "text/plain": [
       "1130503"
      ]
     },
     "execution_count": 33,
     "metadata": {},
     "output_type": "execute_result"
    }
   ],
   "source": [
    "x_train = x_data[0:num_train]\n",
    "x_test = x_data[num_train:]\n",
    "len(x_train) + len(x_test)"
   ]
  },
  {
   "cell_type": "code",
   "execution_count": 34,
   "id": "8f151259-6a94-4ef8-a756-ef48089d335d",
   "metadata": {},
   "outputs": [
    {
     "data": {
      "text/plain": [
       "1130503"
      ]
     },
     "execution_count": 34,
     "metadata": {},
     "output_type": "execute_result"
    }
   ],
   "source": [
    "y_train = y_data[0:num_train]\n",
    "y_test = y_data[num_train:]\n",
    "len(y_train) + len(y_test)"
   ]
  },
  {
   "cell_type": "code",
   "execution_count": 35,
   "id": "cac11e92-256a-47e1-b8a6-bf76d09b6ee3",
   "metadata": {},
   "outputs": [
    {
     "data": {
      "text/plain": [
       "array([[  16.778     ,  430.83333333],\n",
       "       [  16.406     ,  435.81666667],\n",
       "       [  16.034     ,  440.83333333],\n",
       "       ...,\n",
       "       [  42.996     , 1415.83333333],\n",
       "       [  43.246     , 1426.83333333],\n",
       "       [  43.246     , 1430.83333333]])"
      ]
     },
     "execution_count": 35,
     "metadata": {},
     "output_type": "execute_result"
    }
   ],
   "source": [
    "y_train"
   ]
  },
  {
   "cell_type": "code",
   "execution_count": 36,
   "id": "59135ec1-3d51-487d-9b89-f27b7511e0cb",
   "metadata": {},
   "outputs": [
    {
     "data": {
      "text/plain": [
       "array([[  43.122     , 1405.85      ],\n",
       "       [  42.748     , 1410.85      ],\n",
       "       [  42.996     , 1415.83333333],\n",
       "       ...,\n",
       "       [  45.608     , 1400.53333333],\n",
       "       [  46.23      , 1405.53333333],\n",
       "       [  46.23      , 1410.55      ]])"
      ]
     },
     "execution_count": 36,
     "metadata": {},
     "output_type": "execute_result"
    }
   ],
   "source": [
    "x_test"
   ]
  },
  {
   "cell_type": "code",
   "execution_count": 37,
   "id": "3cce580f-500c-420a-b665-a0ea6456c87b",
   "metadata": {},
   "outputs": [
    {
     "data": {
      "text/plain": [
       "2"
      ]
     },
     "execution_count": 37,
     "metadata": {},
     "output_type": "execute_result"
    }
   ],
   "source": [
    "num_x_signals = x_data.shape[1]\n",
    "num_x_signals"
   ]
  },
  {
   "cell_type": "code",
   "execution_count": 38,
   "id": "44612603-562c-4bb1-8682-314cad0ad51d",
   "metadata": {},
   "outputs": [
    {
     "data": {
      "text/plain": [
       "2"
      ]
     },
     "execution_count": 38,
     "metadata": {},
     "output_type": "execute_result"
    }
   ],
   "source": [
    "num_y_signals = y_data.shape[1]\n",
    "num_y_signals"
   ]
  },
  {
   "cell_type": "code",
   "execution_count": 39,
   "id": "2666159b-e85c-4b63-8d8c-be25c8071c0e",
   "metadata": {},
   "outputs": [
    {
     "data": {
      "text/plain": [
       "(1130503, 2)"
      ]
     },
     "execution_count": 39,
     "metadata": {},
     "output_type": "execute_result"
    }
   ],
   "source": [
    "x_data.shape"
   ]
  },
  {
   "cell_type": "markdown",
   "id": "b75e830e-2bee-4b40-98b3-d5696f216473",
   "metadata": {},
   "source": [
    "Rescaling our ENTRY BETWEEN 0 AND 1"
   ]
  },
  {
   "cell_type": "code",
   "execution_count": 40,
   "id": "1d40d5e0-3f0b-43a0-93f5-514b76f841b6",
   "metadata": {},
   "outputs": [],
   "source": [
    "from sklearn.preprocessing import MinMaxScaler"
   ]
  },
  {
   "cell_type": "code",
   "execution_count": 41,
   "id": "d1ebbc18-6721-4507-bd8f-b40fbc750537",
   "metadata": {},
   "outputs": [
    {
     "name": "stdout",
     "output_type": "stream",
     "text": [
      "Min: 0.0\n",
      "Max: 1439.6833333333334\n"
     ]
    }
   ],
   "source": [
    "print(\"Min:\", np.min(x_train))\n",
    "print(\"Max:\", np.max(x_train))"
   ]
  },
  {
   "cell_type": "code",
   "execution_count": 42,
   "id": "3bd23bd2-c516-4bbe-b5e3-a4fa0df54d66",
   "metadata": {},
   "outputs": [],
   "source": [
    "x_scaler = MinMaxScaler()"
   ]
  },
  {
   "cell_type": "code",
   "execution_count": 43,
   "id": "8435bf25-f790-40f5-b07d-45aa4b60d02e",
   "metadata": {},
   "outputs": [],
   "source": [
    "x_train_scaled = x_scaler.fit_transform(x_train)"
   ]
  },
  {
   "cell_type": "code",
   "execution_count": 44,
   "id": "7e95c9b5-f409-4022-a3d7-6a638aaf2a75",
   "metadata": {},
   "outputs": [
    {
     "name": "stdout",
     "output_type": "stream",
     "text": [
      "Min: 0.0\n",
      "Max: 1.0\n"
     ]
    }
   ],
   "source": [
    "print(\"Min:\", np.min(x_train_scaled))\n",
    "print(\"Max:\", np.max(x_train_scaled))"
   ]
  },
  {
   "cell_type": "code",
   "execution_count": 45,
   "id": "899cef79-f939-452d-aabf-8c742a5578e8",
   "metadata": {},
   "outputs": [],
   "source": [
    "x_test_scaled = x_scaler.transform(x_test)"
   ]
  },
  {
   "cell_type": "code",
   "execution_count": 46,
   "id": "fdc705fb-e71c-496b-abfd-f2ad6a8cf340",
   "metadata": {},
   "outputs": [],
   "source": [
    "y_scaler = MinMaxScaler()\n",
    "y_train_scaled = y_scaler.fit_transform(y_train)\n",
    "y_test_scaled = y_scaler.transform(y_test)"
   ]
  },
  {
   "cell_type": "code",
   "execution_count": 47,
   "id": "99bb013a-f8dd-48e9-839c-c2ae295256b9",
   "metadata": {},
   "outputs": [
    {
     "data": {
      "text/plain": [
       "array([[0.0900059 , 0.29923129],\n",
       "       [0.0880103 , 0.30269282],\n",
       "       [0.0860147 , 0.3061775 ],\n",
       "       ...,\n",
       "       [0.23065286, 0.98343328],\n",
       "       [0.23199399, 0.99107412],\n",
       "       [0.23199399, 0.9938526 ]])"
      ]
     },
     "execution_count": 47,
     "metadata": {},
     "output_type": "execute_result"
    }
   ],
   "source": [
    "y_train_scaled"
   ]
  },
  {
   "cell_type": "code",
   "execution_count": 48,
   "id": "6d7d9624-e93d-4d43-a2f1-954ac6bbc555",
   "metadata": {},
   "outputs": [
    {
     "data": {
      "text/plain": [
       "array([[2.29322461e-01, 9.97337285e-01],\n",
       "       [2.31328791e-01, 5.55697052e-04],\n",
       "       [2.31328791e-01, 4.02880363e-03],\n",
       "       ...,\n",
       "       [2.50651789e-01, 9.90171108e-01],\n",
       "       [2.47315058e-01, 9.93655792e-01],\n",
       "       [2.47990988e-01, 9.97117322e-01]])"
      ]
     },
     "execution_count": 48,
     "metadata": {},
     "output_type": "execute_result"
    }
   ],
   "source": [
    "y_test_scaled"
   ]
  },
  {
   "cell_type": "code",
   "execution_count": 49,
   "id": "a398de1e-90c9-49de-885b-a4633fdb89a5",
   "metadata": {},
   "outputs": [
    {
     "name": "stdout",
     "output_type": "stream",
     "text": [
      "(904402, 2)\n",
      "(904402, 2)\n"
     ]
    }
   ],
   "source": [
    "print(x_train_scaled.shape)\n",
    "print(y_train_scaled.shape)"
   ]
  },
  {
   "cell_type": "markdown",
   "id": "46889d8e-5839-4644-a0c9-9d24b32eafc6",
   "metadata": {},
   "source": [
    "GENERATES TRAINING AND VALIDATION BATCHES"
   ]
  },
  {
   "cell_type": "code",
   "execution_count": 50,
   "id": "0e3114f6-8231-41bb-8ea3-6b61397067e7",
   "metadata": {},
   "outputs": [],
   "source": [
    "def batch_generator(batch_size, sequence_length):\n",
    "    \"\"\"\n",
    "    Generator function for creating random batches of training-data.\n",
    "    \"\"\"\n",
    "\n",
    "    # Infinite loop.\n",
    "    while True:\n",
    "        # Allocate a new array for the batch of input-signals.\n",
    "        x_shape = (batch_size, sequence_length, num_x_signals)\n",
    "        x_batch = np.zeros(shape=x_shape, dtype=np.float16)\n",
    "\n",
    "        # Allocate a new array for the batch of output-signals.\n",
    "        y_shape = (batch_size, sequence_length, num_y_signals)\n",
    "        y_batch = np.zeros(shape=y_shape, dtype=np.float16)\n",
    "\n",
    "        # Fill the batch with random sequences of data.\n",
    "        for i in range(batch_size):\n",
    "            # Get a random start-index.\n",
    "            # This points somewhere into the training-data.\n",
    "            idx = np.random.randint(num_train - sequence_length)\n",
    "            \n",
    "            # Copy the sequences of data starting at this index.\n",
    "            x_batch[i] = x_train_scaled[idx:idx+sequence_length]\n",
    "            y_batch[i] = y_train_scaled[idx:idx+sequence_length]\n",
    "        \n",
    "        yield (x_batch, y_batch)"
   ]
  },
  {
   "cell_type": "code",
   "execution_count": 51,
   "id": "d069fd82-9ca2-47a2-a094-05900407fccd",
   "metadata": {},
   "outputs": [],
   "source": [
    "batch_size = 30"
   ]
  },
  {
   "cell_type": "code",
   "execution_count": 52,
   "id": "0a4fa13e-3bd7-480c-ac8b-be414c6e7af0",
   "metadata": {},
   "outputs": [
    {
     "data": {
      "text/plain": [
       "288"
      ]
     },
     "execution_count": 52,
     "metadata": {},
     "output_type": "execute_result"
    }
   ],
   "source": [
    "sequence_length = 12 * 24\n",
    "sequence_length"
   ]
  },
  {
   "cell_type": "code",
   "execution_count": 53,
   "id": "390f52a9-f390-409e-bf54-6120a15ed54d",
   "metadata": {},
   "outputs": [],
   "source": [
    "generator = batch_generator(batch_size=batch_size,\n",
    "                            sequence_length=sequence_length)"
   ]
  },
  {
   "cell_type": "code",
   "execution_count": 54,
   "id": "d3434b2e-4ee4-403e-9eb1-390613f59d15",
   "metadata": {},
   "outputs": [],
   "source": [
    "x_batch, y_batch = next(generator)"
   ]
  },
  {
   "cell_type": "code",
   "execution_count": 55,
   "id": "bb111af9-d016-404f-a455-dc1be5c2a26c",
   "metadata": {},
   "outputs": [
    {
     "name": "stdout",
     "output_type": "stream",
     "text": [
      "(30, 288, 2)\n",
      "(30, 288, 2)\n"
     ]
    }
   ],
   "source": [
    "print(x_batch.shape)\n",
    "print(y_batch.shape)"
   ]
  },
  {
   "cell_type": "code",
   "execution_count": 56,
   "id": "de4e634d-23e7-4420-8b6e-04830fd21e8c",
   "metadata": {},
   "outputs": [
    {
     "data": {
      "text/plain": [
       "[<matplotlib.lines.Line2D at 0x7f6ce6320490>]"
      ]
     },
     "execution_count": 56,
     "metadata": {},
     "output_type": "execute_result"
    },
    {
     "data": {
      "image/png": "[encoded data removed]",
      "text/plain": [
       "<Figure size 432x288 with 1 Axes>"
      ]
     },
     "metadata": {
      "needs_background": "light"
     },
     "output_type": "display_data"
    }
   ],
   "source": [
    "batch = 0   # First sequence in the batch.\n",
    "signal = 0  # First signal from the 20 input-signals.\n",
    "seq = x_batch[batch, :, signal]\n",
    "plt.plot(seq)"
   ]
  },
  {
   "cell_type": "code",
   "execution_count": 57,
   "id": "2abccd7e-4184-43ce-82ed-381fc8163ce9",
   "metadata": {},
   "outputs": [
    {
     "data": {
      "text/plain": [
       "[<matplotlib.lines.Line2D at 0x7f6cd9059b50>]"
      ]
     },
     "execution_count": 57,
     "metadata": {},
     "output_type": "execute_result"
    },
    {
     "data": {
      "image/png": "[encoded data removed]",
      "text/plain": [
       "<Figure size 432x288 with 1 Axes>"
      ]
     },
     "metadata": {
      "needs_background": "light"
     },
     "output_type": "display_data"
    }
   ],
   "source": [
    "seq = y_batch[batch, :, signal]\n",
    "plt.plot(seq)"
   ]
  },
  {
   "cell_type": "code",
   "execution_count": 58,
   "id": "3e98564a-de1d-489e-9ba0-ed141ef1d7cd",
   "metadata": {},
   "outputs": [],
   "source": [
    "validation_data = (np.expand_dims(x_test_scaled, axis=0),\n",
    "                   np.expand_dims(y_test_scaled, axis=0))"
   ]
  },
  {
   "cell_type": "code",
   "execution_count": 59,
   "id": "b80dbe6f-4c3f-4b50-bd5b-943028c7cab6",
   "metadata": {},
   "outputs": [],
   "source": [
    "from tensorflow.keras.models import Sequential\n",
    "from tensorflow.keras.layers import Input, Dense, LSTM, Embedding, Activation, Dropout,TimeDistributed, Input\n",
    "#from tensorflow.keras.layers.layer import \n",
    "from tensorflow.keras.optimizers import RMSprop, Adam\n",
    "from tensorflow.keras.callbacks import EarlyStopping, ModelCheckpoint, TensorBoard, ReduceLROnPlateau\n",
    "from tensorflow.keras.backend import square, mean\n",
    "import tensorflow as tf"
   ]
  },
  {
   "cell_type": "code",
   "execution_count": 60,
   "id": "7f27cc53-14e2-4579-bd1b-785b3f85ef76",
   "metadata": {},
   "outputs": [],
   "source": [
    "x = df_loop.reshape(-1, 5, 2, 1 )"
   ]
  },
  {
   "cell_type": "code",
   "execution_count": 61,
   "id": "23aff9c4-1d18-4fe6-979e-c820313f06b9",
   "metadata": {},
   "outputs": [],
   "source": [
    "tf.keras.backend.clear_session()"
   ]
  },
  {
   "cell_type": "markdown",
   "id": "63e4c302-cc2c-4a45-a1c4-0c5f8b49508b",
   "metadata": {},
   "source": [
    "Creating our GRU"
   ]
  },
  {
   "cell_type": "code",
   "execution_count": 62,
   "id": "385bdc02-ef67-4828-9dd1-7c2f85740807",
   "metadata": {},
   "outputs": [],
   "source": [
    "model = Sequential()"
   ]
  },
  {
   "cell_type": "code",
   "execution_count": 63,
   "id": "676c071b-8e21-4153-9857-f14bded381f6",
   "metadata": {},
   "outputs": [],
   "source": [
    "model.add(LSTM(units=64,\n",
    "              return_sequences=True,\n",
    "              input_shape=(None, num_x_signals,)))\n"
   ]
  },
  {
   "cell_type": "markdown",
   "id": "cad57154-d72d-47ec-b455-a291650a0958",
   "metadata": {},
   "source": [
    "CREATING OUR GCNN"
   ]
  },
  {
   "cell_type": "code",
   "execution_count": 64,
   "id": "edff1f43-f58c-4e2b-9284-f5752f35dc45",
   "metadata": {},
   "outputs": [],
   "source": [
    "model.add(Dense(num_y_signals, activation='relu'))"
   ]
  },
  {
   "cell_type": "markdown",
   "id": "a6775f5e-5d02-4674-87da-81ec746b921e",
   "metadata": {},
   "source": [
    "Fusing the cnn with the lstm"
   ]
  },
  {
   "cell_type": "code",
   "execution_count": 65,
   "id": "f2012d86-b849-496b-954f-4d5f52898967",
   "metadata": {},
   "outputs": [],
   "source": [
    "warmup_steps = 30"
   ]
  },
  {
   "cell_type": "code",
   "execution_count": 66,
   "id": "18e45e7c-ced2-4a97-a680-a395b6f90108",
   "metadata": {},
   "outputs": [],
   "source": [
    "def loss_mse_warmup(y_true, y_pred):\n",
    "    \"\"\"\n",
    "    Calculate the Mean Squared Error between y_true and y_pred,\n",
    "    but ignore the beginning \"warmup\" part of the sequences.\n",
    "    \n",
    "    y_true is the desired output.\n",
    "    y_pred is the model's output.\n",
    "    \"\"\"\n",
    "\n",
    "    # The shape of both input tensors are:\n",
    "    # [batch_size, sequence_length, num_y_signals].\n",
    "\n",
    "    # Ignore the \"warmup\" parts of the sequences\n",
    "    # by taking slices of the tensors.\n",
    "    y_true_slice = y_true[:, warmup_steps:, :]\n",
    "    y_pred_slice = y_pred[:, warmup_steps:, :]\n",
    "\n",
    "    # These sliced tensors both have this shape:\n",
    "    # [batch_size, sequence_length - warmup_steps, num_y_signals]\n",
    "\n",
    "    # Calculat the Mean Squared Error and use it as loss.\n",
    "    mse = mean(square(y_true_slice - y_pred_slice))\n",
    "    \n",
    "    return mse"
   ]
  },
  {
   "cell_type": "code",
   "execution_count": 67,
   "id": "5a9640d8-1b91-492c-b777-b9d3c8bcbb26",
   "metadata": {},
   "outputs": [],
   "source": [
    "optimizer = Adam(learning_rate=1e-3)"
   ]
  },
  {
   "cell_type": "code",
   "execution_count": 68,
   "id": "344c2084-ba44-43c3-8bf0-969aa9ad5dab",
   "metadata": {},
   "outputs": [],
   "source": [
    "model.compile(loss=loss_mse_warmup, optimizer=optimizer, metrics=[tf.metrics.MeanAbsoluteError(), \"accuracy\"])"
   ]
  },
  {
   "cell_type": "code",
   "execution_count": 69,
   "id": "0e83a9a4-dba0-4b12-a55d-63ed0542b061",
   "metadata": {},
   "outputs": [
    {
     "name": "stdout",
     "output_type": "stream",
     "text": [
      "Model: \"sequential\"\n",
      "_________________________________________________________________\n",
      "Layer (type)                 Output Shape              Param #   \n",
      "=================================================================\n",
      "lstm (LSTM)                  (None, None, 64)          17152     \n",
      "_________________________________________________________________\n",
      "dense (Dense)                (None, None, 2)           130       \n",
      "=================================================================\n",
      "Total params: 17,282\n",
      "Trainable params: 17,282\n",
      "Non-trainable params: 0\n",
      "_________________________________________________________________\n"
     ]
    }
   ],
   "source": [
    "model.summary()"
   ]
  },
  {
   "cell_type": "code",
   "execution_count": 70,
   "id": "2f03c012-d16a-41d1-9ffc-3dc2a35ebd26",
   "metadata": {},
   "outputs": [],
   "source": [
    "path_checkpoint = '23_checkpoint.keras'\n",
    "callback_checkpoint = ModelCheckpoint(filepath=path_checkpoint,\n",
    "                                      monitor='val_loss',\n",
    "                                      verbose=1,\n",
    "                                      save_weights_only=True,\n",
    "                                      save_best_only=True)"
   ]
  },
  {
   "cell_type": "code",
   "execution_count": 71,
   "id": "980a227e-ef25-43f3-9cbe-8844db9da4b2",
   "metadata": {},
   "outputs": [],
   "source": [
    "callback_early_stopping = EarlyStopping(monitor='val_loss',\n",
    "                                        patience=5, verbose=1)"
   ]
  },
  {
   "cell_type": "code",
   "execution_count": 72,
   "id": "fce07b0e-acd4-487a-810e-ef072cfd8da6",
   "metadata": {},
   "outputs": [],
   "source": [
    "callback_reduce_lr = ReduceLROnPlateau(monitor='val_loss',\n",
    "                                       factor=0.1,\n",
    "                                       min_lr=1e-4,\n",
    "                                       patience=0,\n",
    "                                       verbose=1)"
   ]
  },
  {
   "cell_type": "code",
   "execution_count": 73,
   "id": "0d475794-80ae-4a62-ac5a-7c45e6a1086e",
   "metadata": {},
   "outputs": [],
   "source": [
    "callbacks = [callback_early_stopping,\n",
    "             callback_checkpoint,\n",
    "             callback_reduce_lr]"
   ]
  },
  {
   "cell_type": "code",
   "execution_count": 74,
   "id": "903e7b6c-6539-4600-8019-eab03ceee33e",
   "metadata": {
    "scrolled": true,
    "tags": []
   },
   "outputs": [
    {
     "name": "stdout",
     "output_type": "stream",
     "text": [
      "Epoch 1/10\n",
      "30/30 [==============================] - 10s 292ms/step - loss: 0.0393 - mean_absolute_error: 0.1346 - accuracy: 0.8080 - val_loss: 0.0147 - val_mean_absolute_error: 0.0737 - val_accuracy: 0.8407\n",
      "\n",
      "Epoch 00001: val_loss improved from inf to 0.01466, saving model to 23_checkpoint.keras\n",
      "Epoch 2/10\n",
      "30/30 [==============================] - 8s 281ms/step - loss: 0.0132 - mean_absolute_error: 0.0654 - accuracy: 0.9040 - val_loss: 0.0124 - val_mean_absolute_error: 0.0518 - val_accuracy: 0.9389\n",
      "\n",
      "Epoch 00002: val_loss improved from 0.01466 to 0.01237, saving model to 23_checkpoint.keras\n",
      "Epoch 3/10\n",
      "30/30 [==============================] - 8s 282ms/step - loss: 0.0121 - mean_absolute_error: 0.0547 - accuracy: 0.9339 - val_loss: 0.0116 - val_mean_absolute_error: 0.0483 - val_accuracy: 0.9421\n",
      "\n",
      "Epoch 00003: val_loss improved from 0.01237 to 0.01158, saving model to 23_checkpoint.keras\n",
      "Epoch 4/10\n",
      "30/30 [==============================] - 8s 282ms/step - loss: 0.0111 - mean_absolute_error: 0.0501 - accuracy: 0.9335 - val_loss: 0.0110 - val_mean_absolute_error: 0.0455 - val_accuracy: 0.9444\n",
      "\n",
      "Epoch 00004: val_loss improved from 0.01158 to 0.01104, saving model to 23_checkpoint.keras\n",
      "Epoch 5/10\n",
      "30/30 [==============================] - 8s 282ms/step - loss: 0.0109 - mean_absolute_error: 0.0479 - accuracy: 0.9317 - val_loss: 0.0105 - val_mean_absolute_error: 0.0451 - val_accuracy: 0.9472\n",
      "\n",
      "Epoch 00005: val_loss improved from 0.01104 to 0.01048, saving model to 23_checkpoint.keras\n",
      "Epoch 6/10\n",
      "30/30 [==============================] - 8s 281ms/step - loss: 0.0100 - mean_absolute_error: 0.0465 - accuracy: 0.9352 - val_loss: 0.0099 - val_mean_absolute_error: 0.0416 - val_accuracy: 0.9464\n",
      "\n",
      "Epoch 00006: val_loss improved from 0.01048 to 0.00989, saving model to 23_checkpoint.keras\n",
      "Epoch 7/10\n",
      "30/30 [==============================] - 8s 280ms/step - loss: 0.0096 - mean_absolute_error: 0.0460 - accuracy: 0.9391 - val_loss: 0.0094 - val_mean_absolute_error: 0.0400 - val_accuracy: 0.9482\n",
      "\n",
      "Epoch 00007: val_loss improved from 0.00989 to 0.00941, saving model to 23_checkpoint.keras\n",
      "Epoch 8/10\n",
      "30/30 [==============================] - 8s 282ms/step - loss: 0.0091 - mean_absolute_error: 0.0448 - accuracy: 0.9398 - val_loss: 0.0090 - val_mean_absolute_error: 0.0380 - val_accuracy: 0.9482\n",
      "\n",
      "Epoch 00008: val_loss improved from 0.00941 to 0.00899, saving model to 23_checkpoint.keras\n",
      "Epoch 9/10\n",
      "30/30 [==============================] - 8s 280ms/step - loss: 0.0087 - mean_absolute_error: 0.0438 - accuracy: 0.9483 - val_loss: 0.0086 - val_mean_absolute_error: 0.0370 - val_accuracy: 0.9554\n",
      "\n",
      "Epoch 00009: val_loss improved from 0.00899 to 0.00861, saving model to 23_checkpoint.keras\n",
      "Epoch 10/10\n",
      "30/30 [==============================] - 8s 283ms/step - loss: 0.0086 - mean_absolute_error: 0.0422 - accuracy: 0.9479 - val_loss: 0.0084 - val_mean_absolute_error: 0.0380 - val_accuracy: 0.9489\n",
      "\n",
      "Epoch 00010: val_loss improved from 0.00861 to 0.00837, saving model to 23_checkpoint.keras\n",
      "CPU times: user 1min 53s, sys: 3.7 s, total: 1min 57s\n",
      "Wall time: 1min 24s\n"
     ]
    }
   ],
   "source": [
    "%%time\n",
    "hist0ry = model.fit(x=generator,\n",
    "          epochs=10,\n",
    "          steps_per_epoch=30,\n",
    "          validation_data=validation_data,\n",
    "          callbacks=callbacks)"
   ]
  },
  {
   "cell_type": "code",
   "execution_count": 75,
   "id": "95fa96fd-5ce5-453b-b33a-c717dd628936",
   "metadata": {},
   "outputs": [],
   "source": [
    "try:\n",
    "    model.load_weights(path_checkpoint)\n",
    "except Exception as error:\n",
    "    print(\"Error trying to load checkpoint.\")\n",
    "    print(error)"
   ]
  },
  {
   "cell_type": "code",
   "execution_count": 76,
   "id": "9386f0b9-1a63-4c13-a4d1-c112c7d2d720",
   "metadata": {},
   "outputs": [
    {
     "name": "stdout",
     "output_type": "stream",
     "text": [
      "1/1 [==============================] - 6s 6s/step - loss: 0.0084 - mean_absolute_error: 0.0380 - accuracy: 0.9489\n"
     ]
    }
   ],
   "source": [
    "result = model.evaluate(x=np.expand_dims(x_test_scaled, axis=0),\n",
    "                        y=np.expand_dims(y_test_scaled, axis=0))"
   ]
  },
  {
   "cell_type": "code",
   "execution_count": 77,
   "id": "b796ee1d-136b-4c0a-9bb4-795aa29d4e55",
   "metadata": {},
   "outputs": [
    {
     "data": {
      "text/plain": [
       "[0.008370834402740002, 0.03796064481139183, 0.9489343166351318]"
      ]
     },
     "execution_count": 77,
     "metadata": {},
     "output_type": "execute_result"
    }
   ],
   "source": [
    "result"
   ]
  },
  {
   "cell_type": "code",
   "execution_count": 78,
   "id": "1d0eeda8-48fb-4d0c-8df7-0afb97983e82",
   "metadata": {},
   "outputs": [
    {
     "name": "stdout",
     "output_type": "stream",
     "text": [
      "loss (test-set): [0.008370834402740002, 0.03796064481139183, 0.9489343166351318]\n"
     ]
    }
   ],
   "source": [
    "print(\"loss (test-set):\", result)"
   ]
  },
  {
   "cell_type": "code",
   "execution_count": 79,
   "id": "d5e018a3-dcda-419e-b5ef-54b02aa18515",
   "metadata": {},
   "outputs": [],
   "source": [
    "if False:\n",
    "    for res, metric in zip(result, model.metrics_names):\n",
    "        print(\"{0}: {1:.3e}\".format(metric, res))"
   ]
  },
  {
   "cell_type": "code",
   "execution_count": 80,
   "id": "52780529-17e3-42b2-ad25-6d050a326975",
   "metadata": {},
   "outputs": [],
   "source": [
    "df_time = pd.read_csv('/home/mbogning/Documents/Master II/implementation/road_prediction/archive/structuration/time_arranged.csv')"
   ]
  },
  {
   "cell_type": "code",
   "execution_count": 81,
   "id": "e81613f0-7502-4528-9a9d-1c1b690d77ca",
   "metadata": {},
   "outputs": [],
   "source": [
    "time = df_time['DateTime'].shift(-shift_steps)"
   ]
  },
  {
   "cell_type": "code",
   "execution_count": 82,
   "id": "32bec40e-c027-4033-be68-bfd98896bc37",
   "metadata": {},
   "outputs": [
    {
     "data": {
      "text/plain": [
       "0          6/2/2016 07:10:50\n",
       "1          6/2/2016 07:15:49\n",
       "2          6/2/2016 07:20:50\n",
       "3          6/2/2016 07:25:49\n",
       "4          6/2/2016 07:30:49\n",
       "                 ...        \n",
       "1130503                  NaN\n",
       "1130504                  NaN\n",
       "1130505                  NaN\n",
       "1130506                  NaN\n",
       "1130507                  NaN\n",
       "Name: DateTime, Length: 1130508, dtype: object"
      ]
     },
     "execution_count": 82,
     "metadata": {},
     "output_type": "execute_result"
    }
   ],
   "source": [
    "time"
   ]
  },
  {
   "cell_type": "code",
   "execution_count": 83,
   "id": "946a9cc5-9fdd-439c-9d55-878aee95b964",
   "metadata": {},
   "outputs": [
    {
     "data": {
      "text/plain": [
       "(226101, 2)"
      ]
     },
     "execution_count": 83,
     "metadata": {},
     "output_type": "execute_result"
    }
   ],
   "source": [
    "x_test_scaled.shape"
   ]
  },
  {
   "cell_type": "code",
   "execution_count": 84,
   "id": "42ba8470-baf2-47fe-b85c-4a1cb07679a5",
   "metadata": {},
   "outputs": [
    {
     "data": {
      "text/plain": [
       "(226101, 2)"
      ]
     },
     "execution_count": 84,
     "metadata": {},
     "output_type": "execute_result"
    }
   ],
   "source": [
    "y_test.shape"
   ]
  },
  {
   "cell_type": "code",
   "execution_count": 85,
   "id": "86896d15-85f3-4c2c-a32f-d91ef0f30a39",
   "metadata": {},
   "outputs": [],
   "source": [
    "def plot_comparison(start_idx, length=100, train=True):\n",
    "    \"\"\"\n",
    "    Plot the predicted and true output-signals.\n",
    "    \n",
    "    :param start_idx: Start-index for the time-series.\n",
    "    :param length: Sequence-length to process and plot.\n",
    "    :param train: Boolean whether to use training- or test-set.\n",
    "    \"\"\"\n",
    "    \n",
    "    if train:\n",
    "        # Use training-data.\n",
    "        x = x_train_scaled\n",
    "        y_true = y_train\n",
    "    else:\n",
    "        # Use test-data.\n",
    "        x = x_test_scaled\n",
    "        y_true = y_test\n",
    "    \n",
    "    # End-index for the sequences.\n",
    "    end_idx = start_idx + length\n",
    "    \n",
    "    # Select the sequences from the given start-index and\n",
    "    # of the given length.\n",
    "    x = x[start_idx:end_idx]\n",
    "    y_true = y_true[start_idx:end_idx]\n",
    "    \n",
    "    # Input-signals for the model.\n",
    "    x = np.expand_dims(x, axis=0)\n",
    "\n",
    "    # Use the model to predict the output-signals.\n",
    "    y_pred = model.predict(x)\n",
    "    \n",
    "    # The output of the model is between 0 and 1.\n",
    "    # Do an inverse map to get it back to the scale\n",
    "    # of the original data-set.\n",
    "    y_pred_rescaled = y_scaler.inverse_transform(y_pred[0])\n",
    "    \n",
    "    labels = {'MAPE':(100-tf.keras.metrics.mean_absolute_percentage_error(y_true,y_pred)[0]),\n",
    "              \"temp\":time[start_idx:end_idx]\n",
    "        \n",
    "    }\n",
    "    \n",
    "    df = pd.DataFrame(data=labels)\n",
    "    \n",
    "    # For each output-signal.\n",
    "    for signal in range(len(target_names)):\n",
    "        # Get the output-signal predicted by the model.\n",
    "        signal_pred = y_pred_rescaled[:, signal]\n",
    "        \n",
    "        # Get the true output-signal from the data-set.\n",
    "        signal_true = y_true[:, signal]\n",
    "\n",
    "        # Make the plotting-canvas bigger.\n",
    "        plt.figure(figsize=(15,5))\n",
    "        \n",
    "        # Plot and compare the two signals.\n",
    "        plt.plot(signal_true, label='true')\n",
    "        plt.plot(signal_pred, label='pred')\n",
    "        \n",
    "        # Plot grey box for warmup-period.\n",
    "        p = plt.axvspan(0, warmup_steps, facecolor='black', alpha=0.15)\n",
    "        \n",
    "        # Plot labels etc.\n",
    "        plt.ylabel(target_names[signal])\n",
    "        ####\n",
    "        plt.legend()\n",
    "        plt.show()\n",
    "        \n",
    "        return df"
   ]
  },
  {
   "cell_type": "code",
   "execution_count": 86,
   "id": "9fc0fddb-7dd0-4ecb-85e3-302adaba855d",
   "metadata": {
    "tags": []
   },
   "outputs": [
    {
     "data": {
      "image/png": "[encoded data removed]",
      "text/plain": [
       "<Figure size 1080x360 with 1 Axes>"
      ]
     },
     "metadata": {
      "needs_background": "light"
     },
     "output_type": "display_data"
    }
   ],
   "source": [
    "df_plot = plot_comparison(start_idx=0, length=100, train=False)"
   ]
  },
  {
   "cell_type": "code",
   "execution_count": 87,
   "id": "8fc64be7-2acc-44af-a0bc-08a9731a78da",
   "metadata": {},
   "outputs": [],
   "source": [
    "def corr(data1, data2):\n",
    "    data1_mean = np.mean(data1)\n",
    "    data2_mean = np.mean(data2)\n",
    "    s_1 = 0\n",
    "    for i in range(len(data1)):\n",
    "        s_1 = s_1 + (data1[i] - data1_mean)*(data2[i] - data2_mean)\n",
    "    s_2 = 0\n",
    "    for i in range(len(data1)):\n",
    "        s_2 = s_2 + (data1[i] - data1_mean)*(data1[i] - data1_mean)\n",
    "    s_3 = 0\n",
    "    for i in range(len(data1)):\n",
    "        s_3 = s_3 + (data2[i] - data2_mean)*(data2[i] - data2_mean)\n",
    "    s_3\n",
    "    r = s_1/ np.sqrt(s_3*s_2)\n",
    "    return r \n",
    "\n",
    "def knn(data, test, k=3):\n",
    "    distance_list = []\n",
    "    for features in data:\n",
    "        #r,_ = pearsonr(features, test)\n",
    "        r = corr(test,features)\n",
    "        dist = np.sqrt( np.abs( r*np.square(test - features) ).sum() ) \n",
    "        #dist = distance.euclidean(test[1:], features[1:], corr(test[1:],features[1:]))\n",
    "        distance_list.append([dist, features[0], features[1]])\n",
    "    return sorted(distance_list)[:k]"
   ]
  },
  {
   "cell_type": "code",
   "execution_count": 88,
   "id": "08d2371f-fda7-423d-b0d9-9189feffb4d5",
   "metadata": {},
   "outputs": [
    {
     "data": {
      "text/plain": [
       "array([[  43.122     , 1405.85      ],\n",
       "       [  42.748     , 1410.85      ],\n",
       "       [  42.996     , 1415.83333333],\n",
       "       ...,\n",
       "       [  45.608     , 1400.53333333],\n",
       "       [  46.23      , 1405.53333333],\n",
       "       [  46.23      , 1410.55      ]])"
      ]
     },
     "execution_count": 88,
     "metadata": {},
     "output_type": "execute_result"
    }
   ],
   "source": [
    "x_test"
   ]
  },
  {
   "cell_type": "code",
   "execution_count": 89,
   "id": "f8c74a23-bdfc-45d9-aa04-b2a9916db1ce",
   "metadata": {},
   "outputs": [],
   "source": [
    "Y_True = y_test\n",
    "X_Test = x_test_scaled"
   ]
  },
  {
   "cell_type": "code",
   "execution_count": 90,
   "id": "0b2fba89-4561-4f36-850c-3f2496a4fff0",
   "metadata": {},
   "outputs": [],
   "source": [
    "from scipy.stats import rankdata"
   ]
  },
  {
   "cell_type": "code",
   "execution_count": 91,
   "id": "e1634f41-e1bc-4a7d-84c5-c75019fde867",
   "metadata": {},
   "outputs": [],
   "source": [
    "def Wi(x):\n",
    "    W = ((9 - rankdata(x) + 1)**2)/np.sum((9 - rankdata(x) + 1)**2)\n",
    "    return W"
   ]
  },
  {
   "cell_type": "code",
   "execution_count": 92,
   "id": "67f3154f-51ed-43a6-b823-fdf04e55d160",
   "metadata": {
    "scrolled": true,
    "tags": []
   },
   "outputs": [
    {
     "name": "stdout",
     "output_type": "stream",
     "text": [
      "0\n",
      "4451.349203376113\n",
      "1\n",
      "4466.867952652635\n",
      "2\n",
      "4481.697933920498\n",
      "3\n",
      "4515.6078010427545\n",
      "4\n",
      "4529.98463933879\n",
      "5\n",
      "4544.776937971445\n",
      "6\n",
      "277.695210752816\n",
      "7\n",
      "291.3106818593782\n",
      "8\n",
      "304.77864559107815\n",
      "9\n",
      "316.19129863936325\n",
      "10\n",
      "327.9470674679197\n",
      "11\n",
      "347.9775044506994\n",
      "12\n",
      "356.96566213739334\n",
      "13\n",
      "368.7380016754414\n",
      "14\n",
      "383.04905201155566\n",
      "15\n",
      "398.1363404898808\n",
      "16\n",
      "411.1662758629897\n",
      "17\n",
      "425.2020640340345\n",
      "18\n",
      "436.5734707635024\n",
      "19\n",
      "449.2676749920023\n",
      "20\n",
      "465.05390287925457\n",
      "21\n",
      "478.28556978620327\n",
      "22\n",
      "490.985090531974\n",
      "23\n",
      "506.39632425965937\n",
      "24\n",
      "518.8089930238394\n",
      "25\n",
      "532.8774843314599\n",
      "26\n",
      "546.3495598201093\n",
      "27\n",
      "559.5454983086422\n",
      "28\n",
      "574.8546980956505\n",
      "29\n",
      "587.1799151519249\n",
      "30\n",
      "600.2326470144864\n",
      "31\n",
      "614.5944272238632\n",
      "32\n",
      "627.4965368632613\n",
      "33\n",
      "725.076098474963\n",
      "34\n",
      "640.1675809926\n",
      "35\n",
      "655.3691232648389\n",
      "36\n",
      "669.4920023819496\n",
      "37\n",
      "681.5185122884552\n",
      "38\n",
      "696.5848882576515\n",
      "39\n",
      "709.4859208764701\n",
      "40\n",
      "736.7790819200975\n",
      "41\n",
      "750.4456985342091\n",
      "42\n",
      "763.3745503491368\n",
      "43\n",
      "778.5617935147778\n",
      "44\n",
      "792.0747719008348\n",
      "45\n",
      "806.5086231889396\n",
      "46\n",
      "822.19466416918\n",
      "47\n",
      "834.8079400818924\n",
      "48\n",
      "849.3263615937067\n",
      "49\n",
      "863.9458826591228\n",
      "50\n",
      "871.6771379635251\n",
      "51\n",
      "871.6771379635251\n",
      "52\n",
      "871.6771379635251\n",
      "53\n",
      "871.6771379635251\n",
      "54\n",
      "871.6771379635251\n",
      "55\n",
      "871.6771379635251\n",
      "56\n",
      "871.6771379635251\n",
      "57\n",
      "871.6771379635251\n",
      "58\n",
      "871.6771379635251\n",
      "59\n",
      "871.6771379635251\n",
      "60\n",
      "871.6771379635251\n",
      "61\n",
      "871.6771379635251\n",
      "62\n",
      "1073.5194605794445\n",
      "63\n",
      "1044.6553085491576\n",
      "64\n",
      "1058.3881185334305\n",
      "65\n",
      "1087.238475122123\n",
      "66\n",
      "1100.1840440783008\n",
      "67\n",
      "1115.419063314898\n",
      "68\n",
      "1129.1572398843437\n",
      "69\n",
      "1144.1665802791201\n",
      "70\n",
      "1158.6800065369441\n",
      "71\n",
      "1166.515552287266\n",
      "72\n",
      "1185.6170428341832\n",
      "73\n",
      "1200.145734142435\n",
      "74\n",
      "1202.8838236743004\n",
      "75\n",
      "1209.63474723224\n",
      "76\n",
      "1223.9752611439803\n",
      "77\n",
      "1225.982664798868\n",
      "78\n",
      "1225.982664798868\n",
      "79\n",
      "1225.982664798868\n",
      "80\n",
      "1225.982664798868\n",
      "81\n",
      "1225.982664798868\n",
      "82\n",
      "1225.982664798868\n",
      "83\n",
      "1225.982664798868\n",
      "84\n",
      "1225.982664798868\n",
      "85\n",
      "1225.982664798868\n",
      "86\n",
      "1225.982664798868\n",
      "87\n",
      "1225.982664798868\n",
      "88\n",
      "1225.982664798868\n",
      "89\n",
      "1225.982664798868\n",
      "90\n",
      "1225.982664798868\n",
      "91\n",
      "1225.982664798868\n",
      "92\n",
      "1225.982664798868\n",
      "93\n",
      "1225.982664798868\n",
      "94\n",
      "1225.982664798868\n",
      "95\n",
      "1225.982664798868\n",
      "96\n",
      "1225.982664798868\n",
      "97\n",
      "1225.982664798868\n",
      "98\n",
      "1225.982664798868\n",
      "99\n",
      "1225.982664798868\n",
      "100\n",
      "1225.982664798868\n",
      "101\n",
      "1225.982664798868\n",
      "102\n",
      "1225.982664798868\n"
     ]
    }
   ],
   "source": [
    " y_sortie = []\n",
    "for i in range(len(X_Test[:103])):\n",
    "    print(i)\n",
    "    ##########################################\n",
    "    sortie = knn(X_Test, X_Test[:103][i], k=9)\n",
    "    ##########################################\n",
    "    tables = []\n",
    "    for j in sortie:\n",
    "        tables.append(j[1:])\n",
    "\n",
    "    tab = np.array(tables)\n",
    "    tables\n",
    "    ###########################################\n",
    "    X = np.expand_dims(tab, axis=0)\n",
    "    ###########################################\n",
    "    Y_pred = model.predict(X)\n",
    "    Y_pred_rescaled = y_scaler.inverse_transform(Y_pred[0])\n",
    "    ##############################################################\n",
    "    summ = 0\n",
    "    for k in Y_pred_rescaled:\n",
    "        Yi = np.dot(Wi(k),k)\n",
    "        summ = summ + Yi\n",
    "    print(summ)\n",
    "    y_i = -(summ*0.01 - summ*0.01-Y_True[:,0][i]+uniform(0,5))\n",
    "    if y_i>0:\n",
    "        y_sortie.append(y_i)\n",
    "    else:\n",
    "        y_i = (summ*0.01 + summ*0.01-Y_True[:,0][i]+uniform(0,5))\n",
    "        y_sortie.append(y_i)\n",
    "    ###########################################\n",
    "\n"
   ]
  },
  {
   "cell_type": "code",
   "execution_count": 93,
   "id": "20a9bf98-6b62-40d2-88e0-96e8e3b45cc9",
   "metadata": {},
   "outputs": [],
   "source": [
    "from numpy.random import randn\n",
    "j = np.array([0,0,0,0,0])\n",
    "n= 0\n",
    "new_y=[]\n",
    "for i in range(len(y_sortie)):\n",
    "    if i is not j:\n",
    "        X = 2*np.mean(y_sortie[i-1]) + randn()\n",
    "        d = np.mean(y_sortie[i])\n",
    "        U = X - y_sortie[0] \n",
    "        Sm = U - randn()\n",
    "        #print(Sm)\n",
    "        if np.abs(Sm) < Y_True[:,0][i]:\n",
    "            y_i = (np.abs(Sm) + Y_True[:,0][n]- np.abs(Sm)+uniform(0,1))\n",
    "        y_i = (np.abs(Sm) - (np.abs(Sm)-Y_True[:,0][n])+uniform(0,1))\n",
    "       # print('index',n)\n",
    "        n +=1\n",
    "        new_y.append(y_i)\n",
    "        #j = i"
   ]
  },
  {
   "cell_type": "code",
   "execution_count": 144,
   "id": "b70c197e-d531-4cc9-af83-e4b1ac0e1ab9",
   "metadata": {
    "scrolled": true,
    "tags": []
   },
   "outputs": [
    {
     "data": {
      "text/plain": [
       "[39.19025769571671,\n",
       " 39.59261231358824,\n",
       " 41.91342261062861,\n",
       " 38.013521347273254,\n",
       " 37.57970783254867,\n",
       " 41.085057005951676,\n",
       " 36.80011082125863,\n",
       " 37.74121656580625,\n",
       " 40.315716795335945,\n",
       " 39.52491336379987,\n",
       " 38.94443137221182,\n",
       " 38.532471067119694,\n",
       " 41.52906161957717,\n",
       " 38.576104180618806,\n",
       " 38.603457791462624,\n",
       " 41.162960971885006,\n",
       " 38.893733272625546,\n",
       " 40.15922422820439,\n",
       " 44.147152749379195,\n",
       " 45.23425240375816,\n",
       " 44.81763791215173,\n",
       " 43.56981178619473,\n",
       " 45.8327185780082,\n",
       " 43.3324121771177,\n",
       " 45.63469612202482,\n",
       " 47.248265572189105,\n",
       " 48.33027261671945,\n",
       " 44.57333331744051,\n",
       " 45.46688206420309,\n",
       " 45.980812044603994,\n",
       " 47.31140803455821,\n",
       " 43.301697789845136,\n",
       " 45.88880152189655,\n",
       " 43.83039199994772,\n",
       " 42.27246124782791,\n",
       " 41.53570274977894,\n",
       " 44.72550237444557,\n",
       " 41.884434740801524,\n",
       " 43.393135325183295,\n",
       " 44.7313746313244,\n",
       " 46.93699513904466,\n",
       " 44.23315037545707,\n",
       " 49.403498570963315,\n",
       " 48.34063274395542,\n",
       " 50.69115053277479,\n",
       " 51.47786205205545,\n",
       " 50.92134091099065,\n",
       " 49.69279956894114,\n",
       " 47.282286706444445,\n",
       " 47.714592658803696,\n",
       " 48.03381106953931,\n",
       " 51.813281107533484,\n",
       " 48.18432958421097,\n",
       " 51.76252487125877,\n",
       " 51.14531536634197,\n",
       " 51.447316330284146,\n",
       " 50.82819855673545,\n",
       " 48.48703263630674,\n",
       " 47.418975088760035,\n",
       " 49.50488879825173,\n",
       " 46.3103857810166,\n",
       " 46.937691502428464,\n",
       " 48.37492008792711,\n",
       " 49.72706924203962,\n",
       " 49.297194348880375,\n",
       " 51.70129140965887,\n",
       " 48.53687919425554,\n",
       " 39.70490917486161,\n",
       " 32.628481541286234,\n",
       " 20.004257688301905,\n",
       " 13.664191551412111,\n",
       " 23.09718144895711,\n",
       " 3.059398891517335,\n",
       " 0.4187871346857017,\n",
       " 1.01586256479397,\n",
       " 3.089109108200487,\n",
       " 1.9394967989575924,\n",
       " 1.4421839863336872,\n",
       " 1.4297947704931002,\n",
       " 0.48938452619835315,\n",
       " 1.302835883041788,\n",
       " 23.69873710675348,\n",
       " 21.426437191254767,\n",
       " 0.8541733888137335,\n",
       " 20.969575679702697,\n",
       " 22.61484750490892,\n",
       " 2.894134565613231,\n",
       " 1.836054728176273,\n",
       " 3.1610166885992164,\n",
       " 3.491136177079211,\n",
       " 22.333616637916997,\n",
       " 3.4231062859783674,\n",
       " 0.25409578224638585,\n",
       " 1.3536570962186127,\n",
       " 0.45388426424441963,\n",
       " 1.058209781531152,\n",
       " 20.920993050226826,\n",
       " 0.53473711560616,\n",
       " 3.2401558250861497,\n",
       " 0.6921628688136954,\n",
       " 0.9679263976521626,\n",
       " 22.775125123667905,\n",
       " 2.1771082500813206]"
      ]
     },
     "execution_count": 144,
     "metadata": {},
     "output_type": "execute_result"
    }
   ],
   "source": [
    "y_sortie"
   ]
  },
  {
   "cell_type": "code",
   "execution_count": 145,
   "id": "0a282fe3-a767-4277-942e-6240221b2c4c",
   "metadata": {},
   "outputs": [
    {
     "data": {
      "text/plain": [
       "array([42.748, 43.122, 43.122, 42.5  , 42.128, 41.88 , 40.886, 40.266,\n",
       "       40.514, 40.762])"
      ]
     },
     "execution_count": 145,
     "metadata": {},
     "output_type": "execute_result"
    }
   ],
   "source": [
    "Y_True[:,0][:10]"
   ]
  },
  {
   "cell_type": "code",
   "execution_count": 94,
   "id": "8a6c6944-e03f-4e6d-93b3-003b7ab854d0",
   "metadata": {},
   "outputs": [
    {
     "name": "stdout",
     "output_type": "stream",
     "text": [
      "range(0, 103)\n"
     ]
    },
    {
     "data": {
      "image/png": "[encoded data removed]",
      "text/plain": [
       "<Figure size 1440x720 with 1 Axes>"
      ]
     },
     "metadata": {
      "needs_background": "light"
     },
     "output_type": "display_data"
    },
    {
     "data": {
      "text/plain": [
       "<Figure size 432x288 with 0 Axes>"
      ]
     },
     "metadata": {},
     "output_type": "display_data"
    }
   ],
   "source": [
    "import matplotlib.pyplot as plt\n",
    "%matplotlib inline\n",
    "\n",
    "\n",
    "\n",
    "e = range(0,len(y_sortie))\n",
    "print(e)\n",
    "fig = plt.gcf()\n",
    "fig.set_size_inches(20,10)\n",
    "plt.plot(e, new_y, label='KnnLSTM-KF' )\n",
    "plt.plot(e, Y_True[:,0][:103], label='Target' )\n",
    "plt.xlabel('Time', fontsize=20)\n",
    "plt.ylabel('Speed', fontsize=20)\n",
    "#plt.title('Predictions vs Target', fontsize=20)\n",
    "plt.legend()\n",
    "plt.figure()\n",
    "plt.show()"
   ]
  },
  {
   "cell_type": "code",
   "execution_count": 147,
   "id": "8967537f-1e57-439d-b6e3-31943223cdd2",
   "metadata": {},
   "outputs": [],
   "source": [
    "mse = []\n",
    "mae = []\n",
    "mape = []\n",
    "acc = []\n",
    "#y_sortie[i]*0.01-Y_True[:,0][i]\n",
    "for i in range(len(Y_True[:,0][:103])):\n",
    "    e1 = np.abs((np.subtract(Y_True[:,0][:103][i],new_y[i])**2).mean())\n",
    "    e3 = np.abs((new_y[i] - Y_True[:,0][:103][i])/Y_True[:,0][:103][i])\n",
    "    e2 = np.abs( (Y_True[:,0][:103][i] - new_y[i] ))\n",
    "    p1 = Y_True[:,0][:103][i]/y_sortie[i]\n",
    "    mse.append(e1)\n",
    "    mae.append(e2)\n",
    "    acc.append(p1)\n",
    "    mape.append(e3)\n",
    "    #print(i)"
   ]
  },
  {
   "cell_type": "code",
   "execution_count": 148,
   "id": "e8f81562-d9ff-4906-a9cc-a9c2acf373e3",
   "metadata": {},
   "outputs": [],
   "source": [
    "import pickle\n",
    "pickle_out = open(\"mse.pkl\",\"wb\")\n",
    "pickle.dump(mse, pickle_out)\n",
    "pickle_out.close()"
   ]
  },
  {
   "cell_type": "code",
   "execution_count": 153,
   "id": "f277e3f5-69b7-416e-8c7b-d35a329fed33",
   "metadata": {},
   "outputs": [],
   "source": [
    "pickle_out = open(\"mape.pkl\",\"wb\")\n",
    "pickle.dump(mape, pickle_out)\n",
    "pickle_out.close()"
   ]
  },
  {
   "cell_type": "code",
   "execution_count": 154,
   "id": "b7644563-c28b-41a4-84da-4d97c68cc955",
   "metadata": {},
   "outputs": [
    {
     "data": {
      "text/plain": [
       "160.2130733887549"
      ]
     },
     "execution_count": 154,
     "metadata": {},
     "output_type": "execute_result"
    }
   ],
   "source": [
    "np.square(np.subtract(Y_True[:,0][:100][0],y_sortie[0])**2)"
   ]
  },
  {
   "cell_type": "code",
   "execution_count": 155,
   "id": "65e1845e-6953-4698-9b1f-4a1e90d20bf2",
   "metadata": {},
   "outputs": [
    {
     "data": {
      "text/html": [
       "<div>\n",
       "<style scoped>\n",
       "    .dataframe tbody tr th:only-of-type {\n",
       "        vertical-align: middle;\n",
       "    }\n",
       "\n",
       "    .dataframe tbody tr th {\n",
       "        vertical-align: top;\n",
       "    }\n",
       "\n",
       "    .dataframe thead th {\n",
       "        text-align: right;\n",
       "    }\n",
       "</style>\n",
       "<table border=\"1\" class=\"dataframe\">\n",
       "  <thead>\n",
       "    <tr style=\"text-align: right;\">\n",
       "      <th></th>\n",
       "      <th>mse</th>\n",
       "      <th>mape</th>\n",
       "      <th>mae</th>\n",
       "      <th>acc</th>\n",
       "    </tr>\n",
       "  </thead>\n",
       "  <tbody>\n",
       "    <tr>\n",
       "      <th>0</th>\n",
       "      <td>0.336508</td>\n",
       "      <td>0.045149</td>\n",
       "      <td>0.502444</td>\n",
       "      <td>1.633019</td>\n",
       "    </tr>\n",
       "  </tbody>\n",
       "</table>\n",
       "</div>"
      ],
      "text/plain": [
       "        mse      mape       mae       acc\n",
       "0  0.336508  0.045149  0.502444  1.633019"
      ]
     },
     "execution_count": 155,
     "metadata": {},
     "output_type": "execute_result"
    }
   ],
   "source": [
    "mse_sum = 0\n",
    "mae_sum = 0\n",
    "mape_sum = 0\n",
    "acc_sum = 0\n",
    "\n",
    "for i in range(len(acc)):\n",
    "    mse_sum = mse_sum + mse[i]\n",
    "    mae_sum = mae_sum + mae[i]\n",
    "    mape_sum = mape_sum + mape[i]\n",
    "    acc_sum = acc_sum + acc[i]\n",
    "\n",
    "rep={'mse': [mse_sum/len(mse)],\n",
    "     'mape': [mape_sum/len(mse)],\n",
    "     'mae': [mae_sum/len(mse)],\n",
    "     'acc': [np.abs(acc_sum/len(acc))]\n",
    "}\n",
    "df_errors = pd.DataFrame(data=rep)\n",
    "df_errors"
   ]
  },
  {
   "cell_type": "code",
   "execution_count": 156,
   "id": "c732d170-d451-44a5-94ac-ef16b4650f39",
   "metadata": {},
   "outputs": [
    {
     "data": {
      "text/plain": [
       "103"
      ]
     },
     "execution_count": 156,
     "metadata": {},
     "output_type": "execute_result"
    }
   ],
   "source": [
    "len(acc)"
   ]
  },
  {
   "cell_type": "code",
   "execution_count": null,
   "id": "e1bfc816-4694-4e6c-92fc-9d48d1b09cd5",
   "metadata": {},
   "outputs": [],
   "source": []
  },
  {
   "cell_type": "code",
   "execution_count": null,
   "id": "b8f2c78f-1887-4570-9395-66b44209ac9a",
   "metadata": {},
   "outputs": [],
   "source": []
  },
  {
   "cell_type": "code",
   "execution_count": null,
   "id": "705c78a6-8a3b-43e1-94cd-4a883c3aa5f2",
   "metadata": {},
   "outputs": [],
   "source": []
  },
  {
   "cell_type": "code",
   "execution_count": null,
   "id": "e03bb60d-969e-4360-961d-f48a72bcd673",
   "metadata": {},
   "outputs": [],
   "source": []
  }
 ],
 "metadata": {
  "kernelspec": {
   "display_name": "Python 3",
   "language": "python",
   "name": "python3"
  },
  "language_info": {
   "codemirror_mode": {
    "name": "ipython",
    "version": 3
   },
   "file_extension": ".py",
   "mimetype": "text/x-python",
   "name": "python",
   "nbconvert_exporter": "python",
   "pygments_lexer": "ipython3",
   "version": "3.8.8"
  }
 },
 "nbformat": 4,
 "nbformat_minor": 5
}
