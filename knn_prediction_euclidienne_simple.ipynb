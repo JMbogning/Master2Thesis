{
 "cells": [
  {
   "cell_type": "code",
   "execution_count": 2,
   "id": "54159283-6f1f-41a6-a8a7-7874e868686c",
   "metadata": {},
   "outputs": [],
   "source": [
    "from numpy.random import randn\n",
    "from numpy.random import seed\n",
    "from scipy.stats import pearsonr"
   ]
  },
  {
   "cell_type": "code",
   "execution_count": 3,
   "id": "925b15c2-28ff-4cf7-985e-5d8c7a404232",
   "metadata": {},
   "outputs": [],
   "source": [
    "import pandas as pd #pandas for data import\n",
    "import numpy as np # numpy for array manupulation\n",
    "from sklearn import preprocessing, neighbors #just in case\n",
    "from sklearn.model_selection import train_test_split #split our data into train and test chunks\n",
    "from scipy.spatial import distance"
   ]
  },
  {
   "cell_type": "code",
   "execution_count": 4,
   "id": "48b1912d-b73e-47af-9bc3-9ecc9c5c3b59",
   "metadata": {},
   "outputs": [],
   "source": [
    "import numpy as np"
   ]
  },
  {
   "cell_type": "code",
   "execution_count": 5,
   "id": "a459eab3-49bd-4605-8a4f-98a6a4a9bf7d",
   "metadata": {},
   "outputs": [],
   "source": [
    "df_june = pd.read_csv('/home/mbogning/Documents/Master II/implementation/road_prediction/archive/june2016.csv') #importing the June data"
   ]
  },
  {
   "cell_type": "code",
   "execution_count": 6,
   "id": "6bada052-16b3-4364-af18-51286a2953d8",
   "metadata": {},
   "outputs": [
    {
     "data": {
      "text/html": [
       "<div>\n",
       "<style scoped>\n",
       "    .dataframe tbody tr th:only-of-type {\n",
       "        vertical-align: middle;\n",
       "    }\n",
       "\n",
       "    .dataframe tbody tr th {\n",
       "        vertical-align: top;\n",
       "    }\n",
       "\n",
       "    .dataframe thead th {\n",
       "        text-align: right;\n",
       "    }\n",
       "</style>\n",
       "<table border=\"1\" class=\"dataframe\">\n",
       "  <thead>\n",
       "    <tr style=\"text-align: right;\">\n",
       "      <th></th>\n",
       "      <th>Id</th>\n",
       "      <th>Speed</th>\n",
       "      <th>TravelTime</th>\n",
       "      <th>Status</th>\n",
       "      <th>DataAsOf</th>\n",
       "      <th>linkId</th>\n",
       "    </tr>\n",
       "  </thead>\n",
       "  <tbody>\n",
       "    <tr>\n",
       "      <th>0</th>\n",
       "      <td>1</td>\n",
       "      <td>21.13</td>\n",
       "      <td>201</td>\n",
       "      <td>0</td>\n",
       "      <td>6/2/2016 06:45:50</td>\n",
       "      <td>4616337</td>\n",
       "    </tr>\n",
       "    <tr>\n",
       "      <th>1</th>\n",
       "      <td>2</td>\n",
       "      <td>22.99</td>\n",
       "      <td>120</td>\n",
       "      <td>0</td>\n",
       "      <td>6/2/2016 06:45:50</td>\n",
       "      <td>4616325</td>\n",
       "    </tr>\n",
       "    <tr>\n",
       "      <th>2</th>\n",
       "      <td>3</td>\n",
       "      <td>22.99</td>\n",
       "      <td>287</td>\n",
       "      <td>0</td>\n",
       "      <td>6/2/2016 06:45:50</td>\n",
       "      <td>4616324</td>\n",
       "    </tr>\n",
       "    <tr>\n",
       "      <th>3</th>\n",
       "      <td>4</td>\n",
       "      <td>19.88</td>\n",
       "      <td>162</td>\n",
       "      <td>0</td>\n",
       "      <td>6/2/2016 06:45:50</td>\n",
       "      <td>4616338</td>\n",
       "    </tr>\n",
       "    <tr>\n",
       "      <th>4</th>\n",
       "      <td>106</td>\n",
       "      <td>21.13</td>\n",
       "      <td>109</td>\n",
       "      <td>0</td>\n",
       "      <td>6/2/2016 06:45:50</td>\n",
       "      <td>4616323</td>\n",
       "    </tr>\n",
       "    <tr>\n",
       "      <th>...</th>\n",
       "      <td>...</td>\n",
       "      <td>...</td>\n",
       "      <td>...</td>\n",
       "      <td>...</td>\n",
       "      <td>...</td>\n",
       "      <td>...</td>\n",
       "    </tr>\n",
       "    <tr>\n",
       "      <th>1048570</th>\n",
       "      <td>440</td>\n",
       "      <td>49.09</td>\n",
       "      <td>157</td>\n",
       "      <td>0</td>\n",
       "      <td>6/28/2016 21:42:45</td>\n",
       "      <td>4329483</td>\n",
       "    </tr>\n",
       "    <tr>\n",
       "      <th>1048571</th>\n",
       "      <td>441</td>\n",
       "      <td>59.03</td>\n",
       "      <td>134</td>\n",
       "      <td>0</td>\n",
       "      <td>6/28/2016 21:51:30</td>\n",
       "      <td>4616201</td>\n",
       "    </tr>\n",
       "    <tr>\n",
       "      <th>1048572</th>\n",
       "      <td>445</td>\n",
       "      <td>13.05</td>\n",
       "      <td>407</td>\n",
       "      <td>0</td>\n",
       "      <td>6/28/2016 21:50:56</td>\n",
       "      <td>4456494</td>\n",
       "    </tr>\n",
       "    <tr>\n",
       "      <th>1048573</th>\n",
       "      <td>448</td>\n",
       "      <td>42.25</td>\n",
       "      <td>464</td>\n",
       "      <td>0</td>\n",
       "      <td>6/28/2016 21:50:46</td>\n",
       "      <td>4620343</td>\n",
       "    </tr>\n",
       "    <tr>\n",
       "      <th>1048574</th>\n",
       "      <td>430</td>\n",
       "      <td>60.27</td>\n",
       "      <td>131</td>\n",
       "      <td>0</td>\n",
       "      <td>6/28/2016 21:56:30</td>\n",
       "      <td>4616213</td>\n",
       "    </tr>\n",
       "  </tbody>\n",
       "</table>\n",
       "<p>1048575 rows × 6 columns</p>\n",
       "</div>"
      ],
      "text/plain": [
       "          Id  Speed  TravelTime  Status            DataAsOf   linkId\n",
       "0          1  21.13         201       0   6/2/2016 06:45:50  4616337\n",
       "1          2  22.99         120       0   6/2/2016 06:45:50  4616325\n",
       "2          3  22.99         287       0   6/2/2016 06:45:50  4616324\n",
       "3          4  19.88         162       0   6/2/2016 06:45:50  4616338\n",
       "4        106  21.13         109       0   6/2/2016 06:45:50  4616323\n",
       "...      ...    ...         ...     ...                 ...      ...\n",
       "1048570  440  49.09         157       0  6/28/2016 21:42:45  4329483\n",
       "1048571  441  59.03         134       0  6/28/2016 21:51:30  4616201\n",
       "1048572  445  13.05         407       0  6/28/2016 21:50:56  4456494\n",
       "1048573  448  42.25         464       0  6/28/2016 21:50:46  4620343\n",
       "1048574  430  60.27         131       0  6/28/2016 21:56:30  4616213\n",
       "\n",
       "[1048575 rows x 6 columns]"
      ]
     },
     "execution_count": 6,
     "metadata": {},
     "output_type": "execute_result"
    }
   ],
   "source": [
    "df_june"
   ]
  },
  {
   "cell_type": "code",
   "execution_count": 7,
   "id": "0fcb0f22-5602-436d-9375-5047c77e2165",
   "metadata": {},
   "outputs": [
    {
     "data": {
      "text/html": [
       "<div>\n",
       "<style scoped>\n",
       "    .dataframe tbody tr th:only-of-type {\n",
       "        vertical-align: middle;\n",
       "    }\n",
       "\n",
       "    .dataframe tbody tr th {\n",
       "        vertical-align: top;\n",
       "    }\n",
       "\n",
       "    .dataframe thead th {\n",
       "        text-align: right;\n",
       "    }\n",
       "</style>\n",
       "<table border=\"1\" class=\"dataframe\">\n",
       "  <thead>\n",
       "    <tr style=\"text-align: right;\">\n",
       "      <th></th>\n",
       "      <th>Id</th>\n",
       "      <th>Speed</th>\n",
       "      <th>TravelTime</th>\n",
       "      <th>Status</th>\n",
       "      <th>linkId</th>\n",
       "    </tr>\n",
       "  </thead>\n",
       "  <tbody>\n",
       "    <tr>\n",
       "      <th>count</th>\n",
       "      <td>1.048575e+06</td>\n",
       "      <td>1.048575e+06</td>\n",
       "      <td>1.048575e+06</td>\n",
       "      <td>1048575.0</td>\n",
       "      <td>1.048575e+06</td>\n",
       "    </tr>\n",
       "    <tr>\n",
       "      <th>mean</th>\n",
       "      <td>2.885558e+02</td>\n",
       "      <td>3.916513e+01</td>\n",
       "      <td>2.502879e+02</td>\n",
       "      <td>0.0</td>\n",
       "      <td>4.575884e+06</td>\n",
       "    </tr>\n",
       "    <tr>\n",
       "      <th>std</th>\n",
       "      <td>1.188822e+02</td>\n",
       "      <td>1.710281e+01</td>\n",
       "      <td>4.033850e+02</td>\n",
       "      <td>0.0</td>\n",
       "      <td>1.017225e+05</td>\n",
       "    </tr>\n",
       "    <tr>\n",
       "      <th>min</th>\n",
       "      <td>1.000000e+00</td>\n",
       "      <td>0.000000e+00</td>\n",
       "      <td>2.000000e+00</td>\n",
       "      <td>0.0</td>\n",
       "      <td>4.329472e+06</td>\n",
       "    </tr>\n",
       "    <tr>\n",
       "      <th>25%</th>\n",
       "      <td>1.840000e+02</td>\n",
       "      <td>2.485000e+01</td>\n",
       "      <td>9.200000e+01</td>\n",
       "      <td>0.0</td>\n",
       "      <td>4.616193e+06</td>\n",
       "    </tr>\n",
       "    <tr>\n",
       "      <th>50%</th>\n",
       "      <td>3.160000e+02</td>\n",
       "      <td>4.412000e+01</td>\n",
       "      <td>1.480000e+02</td>\n",
       "      <td>0.0</td>\n",
       "      <td>4.616241e+06</td>\n",
       "    </tr>\n",
       "    <tr>\n",
       "      <th>75%</th>\n",
       "      <td>3.980000e+02</td>\n",
       "      <td>5.282000e+01</td>\n",
       "      <td>2.690000e+02</td>\n",
       "      <td>0.0</td>\n",
       "      <td>4.616332e+06</td>\n",
       "    </tr>\n",
       "    <tr>\n",
       "      <th>max</th>\n",
       "      <td>4.530000e+02</td>\n",
       "      <td>1.864100e+02</td>\n",
       "      <td>1.205400e+04</td>\n",
       "      <td>0.0</td>\n",
       "      <td>4.763657e+06</td>\n",
       "    </tr>\n",
       "  </tbody>\n",
       "</table>\n",
       "</div>"
      ],
      "text/plain": [
       "                 Id         Speed    TravelTime     Status        linkId\n",
       "count  1.048575e+06  1.048575e+06  1.048575e+06  1048575.0  1.048575e+06\n",
       "mean   2.885558e+02  3.916513e+01  2.502879e+02        0.0  4.575884e+06\n",
       "std    1.188822e+02  1.710281e+01  4.033850e+02        0.0  1.017225e+05\n",
       "min    1.000000e+00  0.000000e+00  2.000000e+00        0.0  4.329472e+06\n",
       "25%    1.840000e+02  2.485000e+01  9.200000e+01        0.0  4.616193e+06\n",
       "50%    3.160000e+02  4.412000e+01  1.480000e+02        0.0  4.616241e+06\n",
       "75%    3.980000e+02  5.282000e+01  2.690000e+02        0.0  4.616332e+06\n",
       "max    4.530000e+02  1.864100e+02  1.205400e+04        0.0  4.763657e+06"
      ]
     },
     "execution_count": 7,
     "metadata": {},
     "output_type": "execute_result"
    }
   ],
   "source": [
    "df_june.describe() #description of our data"
   ]
  },
  {
   "cell_type": "code",
   "execution_count": 8,
   "id": "36511bfd-022b-49ea-bc1c-74bce53b4ec8",
   "metadata": {},
   "outputs": [],
   "source": [
    "df_june.drop(['Id'], axis=1, inplace=True) #droping id\n",
    "df_june.drop(['Status'], axis=1, inplace=True) #droping Status"
   ]
  },
  {
   "cell_type": "code",
   "execution_count": 9,
   "id": "85221247-d042-4a93-98a1-750145d822a5",
   "metadata": {},
   "outputs": [
    {
     "data": {
      "text/html": [
       "<div>\n",
       "<style scoped>\n",
       "    .dataframe tbody tr th:only-of-type {\n",
       "        vertical-align: middle;\n",
       "    }\n",
       "\n",
       "    .dataframe tbody tr th {\n",
       "        vertical-align: top;\n",
       "    }\n",
       "\n",
       "    .dataframe thead th {\n",
       "        text-align: right;\n",
       "    }\n",
       "</style>\n",
       "<table border=\"1\" class=\"dataframe\">\n",
       "  <thead>\n",
       "    <tr style=\"text-align: right;\">\n",
       "      <th></th>\n",
       "      <th>Speed</th>\n",
       "      <th>TravelTime</th>\n",
       "      <th>DataAsOf</th>\n",
       "      <th>linkId</th>\n",
       "    </tr>\n",
       "  </thead>\n",
       "  <tbody>\n",
       "    <tr>\n",
       "      <th>0</th>\n",
       "      <td>21.13</td>\n",
       "      <td>201</td>\n",
       "      <td>6/2/2016 06:45:50</td>\n",
       "      <td>4616337</td>\n",
       "    </tr>\n",
       "    <tr>\n",
       "      <th>1</th>\n",
       "      <td>22.99</td>\n",
       "      <td>120</td>\n",
       "      <td>6/2/2016 06:45:50</td>\n",
       "      <td>4616325</td>\n",
       "    </tr>\n",
       "    <tr>\n",
       "      <th>2</th>\n",
       "      <td>22.99</td>\n",
       "      <td>287</td>\n",
       "      <td>6/2/2016 06:45:50</td>\n",
       "      <td>4616324</td>\n",
       "    </tr>\n",
       "    <tr>\n",
       "      <th>3</th>\n",
       "      <td>19.88</td>\n",
       "      <td>162</td>\n",
       "      <td>6/2/2016 06:45:50</td>\n",
       "      <td>4616338</td>\n",
       "    </tr>\n",
       "    <tr>\n",
       "      <th>4</th>\n",
       "      <td>21.13</td>\n",
       "      <td>109</td>\n",
       "      <td>6/2/2016 06:45:50</td>\n",
       "      <td>4616323</td>\n",
       "    </tr>\n",
       "    <tr>\n",
       "      <th>...</th>\n",
       "      <td>...</td>\n",
       "      <td>...</td>\n",
       "      <td>...</td>\n",
       "      <td>...</td>\n",
       "    </tr>\n",
       "    <tr>\n",
       "      <th>845</th>\n",
       "      <td>39.77</td>\n",
       "      <td>228</td>\n",
       "      <td>6/2/2016 07:15:49</td>\n",
       "      <td>4616355</td>\n",
       "    </tr>\n",
       "    <tr>\n",
       "      <th>846</th>\n",
       "      <td>11.18</td>\n",
       "      <td>328</td>\n",
       "      <td>6/2/2016 07:15:49</td>\n",
       "      <td>4616356</td>\n",
       "    </tr>\n",
       "    <tr>\n",
       "      <th>847</th>\n",
       "      <td>8.08</td>\n",
       "      <td>1449</td>\n",
       "      <td>6/2/2016 07:15:49</td>\n",
       "      <td>4616357</td>\n",
       "    </tr>\n",
       "    <tr>\n",
       "      <th>848</th>\n",
       "      <td>18.02</td>\n",
       "      <td>232</td>\n",
       "      <td>6/2/2016 07:15:49</td>\n",
       "      <td>4616310</td>\n",
       "    </tr>\n",
       "    <tr>\n",
       "      <th>849</th>\n",
       "      <td>19.88</td>\n",
       "      <td>214</td>\n",
       "      <td>6/2/2016 07:15:49</td>\n",
       "      <td>4616309</td>\n",
       "    </tr>\n",
       "  </tbody>\n",
       "</table>\n",
       "<p>850 rows × 4 columns</p>\n",
       "</div>"
      ],
      "text/plain": [
       "     Speed  TravelTime           DataAsOf   linkId\n",
       "0    21.13         201  6/2/2016 06:45:50  4616337\n",
       "1    22.99         120  6/2/2016 06:45:50  4616325\n",
       "2    22.99         287  6/2/2016 06:45:50  4616324\n",
       "3    19.88         162  6/2/2016 06:45:50  4616338\n",
       "4    21.13         109  6/2/2016 06:45:50  4616323\n",
       "..     ...         ...                ...      ...\n",
       "845  39.77         228  6/2/2016 07:15:49  4616355\n",
       "846  11.18         328  6/2/2016 07:15:49  4616356\n",
       "847   8.08        1449  6/2/2016 07:15:49  4616357\n",
       "848  18.02         232  6/2/2016 07:15:49  4616310\n",
       "849  19.88         214  6/2/2016 07:15:49  4616309\n",
       "\n",
       "[850 rows x 4 columns]"
      ]
     },
     "execution_count": 9,
     "metadata": {},
     "output_type": "execute_result"
    }
   ],
   "source": [
    "df_june.head(850)"
   ]
  },
  {
   "cell_type": "code",
   "execution_count": 10,
   "id": "bc0ddff8-fe6d-4b16-b0e9-cfb6b058e719",
   "metadata": {},
   "outputs": [],
   "source": [
    "time = pd.to_datetime(df_june.pop('DataAsOf'), format='%m/%d/%Y %H:%M:%S')"
   ]
  },
  {
   "cell_type": "code",
   "execution_count": 11,
   "id": "d96885eb-9fe8-4b3b-afbc-ca663f958fe8",
   "metadata": {},
   "outputs": [
    {
     "data": {
      "text/plain": [
       "0         2016-06-02 06:45:50\n",
       "1         2016-06-02 06:45:50\n",
       "2         2016-06-02 06:45:50\n",
       "3         2016-06-02 06:45:50\n",
       "4         2016-06-02 06:45:50\n",
       "                  ...        \n",
       "1048570   2016-06-28 21:42:45\n",
       "1048571   2016-06-28 21:51:30\n",
       "1048572   2016-06-28 21:50:56\n",
       "1048573   2016-06-28 21:50:46\n",
       "1048574   2016-06-28 21:56:30\n",
       "Name: DataAsOf, Length: 1048575, dtype: datetime64[ns]"
      ]
     },
     "execution_count": 11,
     "metadata": {},
     "output_type": "execute_result"
    }
   ],
   "source": [
    "time"
   ]
  },
  {
   "cell_type": "code",
   "execution_count": 12,
   "id": "9bebaede-ba49-4bba-a0ec-d888f2ea96d0",
   "metadata": {},
   "outputs": [],
   "source": [
    "timestamp_s = time.map(pd.Timestamp.timestamp)"
   ]
  },
  {
   "cell_type": "code",
   "execution_count": 13,
   "id": "84270965-620f-45fa-b533-432d4e62cd86",
   "metadata": {},
   "outputs": [],
   "source": [
    "Time = []\n",
    "for i in time:\n",
    "    Time.append(str(i.time()))"
   ]
  },
  {
   "cell_type": "code",
   "execution_count": 14,
   "id": "bab83a22-0f50-469e-9ef2-524c7f6f1949",
   "metadata": {},
   "outputs": [],
   "source": [
    "Time[0][:2]\n",
    "\n",
    "new_dateTime = []\n",
    "for i in Time:\n",
    "    time_sec = int(i[:2])*3600 + int(i[3:5])*60 + int(i[-2:])\n",
    "    new_dateTime.append(time_sec)"
   ]
  },
  {
   "cell_type": "code",
   "execution_count": 15,
   "id": "d17b2790-a6e3-43dc-9a70-255574f8ab39",
   "metadata": {},
   "outputs": [],
   "source": [
    "df_june['DataAsOf'] = new_dateTime"
   ]
  },
  {
   "cell_type": "code",
   "execution_count": 16,
   "id": "b4dd68d9-947a-407e-8309-6f6e0287ec94",
   "metadata": {},
   "outputs": [
    {
     "data": {
      "text/html": [
       "<div>\n",
       "<style scoped>\n",
       "    .dataframe tbody tr th:only-of-type {\n",
       "        vertical-align: middle;\n",
       "    }\n",
       "\n",
       "    .dataframe tbody tr th {\n",
       "        vertical-align: top;\n",
       "    }\n",
       "\n",
       "    .dataframe thead th {\n",
       "        text-align: right;\n",
       "    }\n",
       "</style>\n",
       "<table border=\"1\" class=\"dataframe\">\n",
       "  <thead>\n",
       "    <tr style=\"text-align: right;\">\n",
       "      <th></th>\n",
       "      <th>Speed</th>\n",
       "      <th>TravelTime</th>\n",
       "      <th>linkId</th>\n",
       "      <th>DataAsOf</th>\n",
       "    </tr>\n",
       "  </thead>\n",
       "  <tbody>\n",
       "    <tr>\n",
       "      <th>0</th>\n",
       "      <td>21.13</td>\n",
       "      <td>201</td>\n",
       "      <td>4616337</td>\n",
       "      <td>24350</td>\n",
       "    </tr>\n",
       "    <tr>\n",
       "      <th>1</th>\n",
       "      <td>22.99</td>\n",
       "      <td>120</td>\n",
       "      <td>4616325</td>\n",
       "      <td>24350</td>\n",
       "    </tr>\n",
       "    <tr>\n",
       "      <th>2</th>\n",
       "      <td>22.99</td>\n",
       "      <td>287</td>\n",
       "      <td>4616324</td>\n",
       "      <td>24350</td>\n",
       "    </tr>\n",
       "    <tr>\n",
       "      <th>3</th>\n",
       "      <td>19.88</td>\n",
       "      <td>162</td>\n",
       "      <td>4616338</td>\n",
       "      <td>24350</td>\n",
       "    </tr>\n",
       "    <tr>\n",
       "      <th>4</th>\n",
       "      <td>21.13</td>\n",
       "      <td>109</td>\n",
       "      <td>4616323</td>\n",
       "      <td>24350</td>\n",
       "    </tr>\n",
       "    <tr>\n",
       "      <th>...</th>\n",
       "      <td>...</td>\n",
       "      <td>...</td>\n",
       "      <td>...</td>\n",
       "      <td>...</td>\n",
       "    </tr>\n",
       "    <tr>\n",
       "      <th>1048570</th>\n",
       "      <td>49.09</td>\n",
       "      <td>157</td>\n",
       "      <td>4329483</td>\n",
       "      <td>78165</td>\n",
       "    </tr>\n",
       "    <tr>\n",
       "      <th>1048571</th>\n",
       "      <td>59.03</td>\n",
       "      <td>134</td>\n",
       "      <td>4616201</td>\n",
       "      <td>78690</td>\n",
       "    </tr>\n",
       "    <tr>\n",
       "      <th>1048572</th>\n",
       "      <td>13.05</td>\n",
       "      <td>407</td>\n",
       "      <td>4456494</td>\n",
       "      <td>78656</td>\n",
       "    </tr>\n",
       "    <tr>\n",
       "      <th>1048573</th>\n",
       "      <td>42.25</td>\n",
       "      <td>464</td>\n",
       "      <td>4620343</td>\n",
       "      <td>78646</td>\n",
       "    </tr>\n",
       "    <tr>\n",
       "      <th>1048574</th>\n",
       "      <td>60.27</td>\n",
       "      <td>131</td>\n",
       "      <td>4616213</td>\n",
       "      <td>78990</td>\n",
       "    </tr>\n",
       "  </tbody>\n",
       "</table>\n",
       "<p>1048575 rows × 4 columns</p>\n",
       "</div>"
      ],
      "text/plain": [
       "         Speed  TravelTime   linkId  DataAsOf\n",
       "0        21.13         201  4616337     24350\n",
       "1        22.99         120  4616325     24350\n",
       "2        22.99         287  4616324     24350\n",
       "3        19.88         162  4616338     24350\n",
       "4        21.13         109  4616323     24350\n",
       "...        ...         ...      ...       ...\n",
       "1048570  49.09         157  4329483     78165\n",
       "1048571  59.03         134  4616201     78690\n",
       "1048572  13.05         407  4456494     78656\n",
       "1048573  42.25         464  4620343     78646\n",
       "1048574  60.27         131  4616213     78990\n",
       "\n",
       "[1048575 rows x 4 columns]"
      ]
     },
     "execution_count": 16,
     "metadata": {},
     "output_type": "execute_result"
    }
   ],
   "source": [
    "df_june"
   ]
  },
  {
   "cell_type": "code",
   "execution_count": 17,
   "id": "0dd0ead9-9a0a-4bbf-a41e-571298f76f51",
   "metadata": {},
   "outputs": [],
   "source": [
    "data = np.array(df_june)\n",
    "xtest = data[:20]\n",
    "train = data[20:]"
   ]
  },
  {
   "cell_type": "markdown",
   "id": "8e2901d8-11c6-45bd-9b81-6d71106c6fde",
   "metadata": {},
   "source": [
    "*<h3> <strong> Pearson Correlation Coefficient </strong> </h3>*\n",
    "\n",
    "$$ r = \\dfrac{\\sum(X_i - X_m)(Y_i - Y_m)} {\\sqrt{\\sum(X_i - X_m)^2\\sum(Y_i - Y_m)^2}}$$\n",
    "\n",
    "*<h3> <strong> KNN </strong> </h3>*\n",
    "$$ di = \\sqrt{\\sum (V_i - v_ij)} $$\n",
    "\n",
    "*<h3> <strong> Prediction algorithm </strong> </h3>*\n",
    "\n",
    "<img src='Capture.PNG' alt='not suppoted'>\n"
   ]
  },
  {
   "cell_type": "code",
   "execution_count": 18,
   "id": "478a10e4-c311-45df-91a4-bfb8b043a234",
   "metadata": {},
   "outputs": [],
   "source": [
    "import scipy.spatial.distance\n",
    "\n",
    "\n",
    "def corr(data1, data2):\n",
    "    data1_mean = np.mean(data1)\n",
    "    data2_mean = np.mean(data2)\n",
    "    s_1 = 0\n",
    "    for i in range(len(data1)):\n",
    "        s_1 = s_1 + (data1[i] - data1_mean)*(data2[i] - data2_mean)\n",
    "    s_2 = 0\n",
    "    for i in range(len(data1)):\n",
    "        s_2 = s_2 + (data1[i] - data1_mean)*(data1[i] - data1_mean)\n",
    "    s_3 = 0\n",
    "    for i in range(len(data1)):\n",
    "        s_3 = s_3 + (data2[i] - data2_mean)*(data2[i] - data2_mean)\n",
    "    s_3\n",
    "    r = s_1/ np.sqrt(s_3*s_2)\n",
    "    return r \n",
    "\n",
    "def knn(data, test, k=3):\n",
    "    distance_list = []\n",
    "    for features in data:\n",
    "        #r,_ = pearsonr(features, test)\n",
    "        #r = corr(test,features)\n",
    "        #dist = np.sqrt( np.sum( np.square(test - features) ) ) \n",
    "        dist = distance.euclidean(test[1:], features[1:])\n",
    "        distance_list.append([dist, features[:1]])\n",
    "    return sorted(distance_list)[:k]\n",
    "def prediction(x_test, data):\n",
    "    true = []\n",
    "    pred = []\n",
    "    result={ 't': true,\n",
    "            'p': pred   \n",
    "    }\n",
    "    for i in x_test:\n",
    "        \n",
    "        r = knn(data, i, k=5)\n",
    "        \n",
    "        distances = [i[0] for i in r if i[0] !=0.0]\n",
    "        #print(np.mean(distances))\n",
    "        Sg = [i[1] for i in r if i[0] !=0.0]\n",
    "        d_1 = [1/i for i in distances if i !=0.0]\n",
    "        Sm =  np.dot(d_1/np.sum(d_1), Sg)\n",
    "        result['p'].append(Sm)\n",
    "        \n",
    "    result['t'] = x_test[:,0]\n",
    "    df = pd.DataFrame(data=result)\n",
    "    #print(df.head(100))\n",
    "    return df\n"
   ]
  },
  {
   "cell_type": "code",
   "execution_count": 19,
   "id": "ff068683-89ea-456a-a9d4-c51971c8e2d6",
   "metadata": {
    "scrolled": true,
    "tags": []
   },
   "outputs": [
    {
     "data": {
      "text/plain": [
       "[[1464763565.0055695, array([37.9])],\n",
       " [1464763565.0055695, array([37.9])],\n",
       " [1464763569.0054808, array([39.77])],\n",
       " [1464763580.0054808, array([37.9])],\n",
       " [1464763580.0054839, array([54.06])],\n",
       " [1464763580.0054865, array([50.95])],\n",
       " [1464763580.0055556, array([44.12])],\n",
       " [1464763591.0054865, array([50.95])]]"
      ]
     },
     "execution_count": 19,
     "metadata": {},
     "output_type": "execute_result"
    }
   ],
   "source": [
    "t = [2.11300000e+01, 1.09000000e+02, 4.61632300e+06, 1.46484995e+09]\n",
    "p = knn(train, t, k=8)\n",
    "p\n"
   ]
  },
  {
   "cell_type": "code",
   "execution_count": 20,
   "id": "104b9793-fedc-4b85-ad11-b4d31550bd63",
   "metadata": {},
   "outputs": [],
   "source": [
    "data = np.array(df_june)\n",
    "xtest = data[:30]\n",
    "train = data[30:]"
   ]
  },
  {
   "cell_type": "code",
   "execution_count": 21,
   "id": "282e2eb6-9b0f-4af6-b3e6-d2a0075a98c5",
   "metadata": {
    "scrolled": true,
    "tags": []
   },
   "outputs": [
    {
     "data": {
      "text/plain": [
       "array([[2.113000e+01, 2.010000e+02, 4.616337e+06, 2.435000e+04],\n",
       "       [2.299000e+01, 1.200000e+02, 4.616325e+06, 2.435000e+04],\n",
       "       [2.299000e+01, 2.870000e+02, 4.616324e+06, 2.435000e+04],\n",
       "       [1.988000e+01, 1.620000e+02, 4.616338e+06, 2.435000e+04],\n",
       "       [2.113000e+01, 1.090000e+02, 4.616323e+06, 2.435000e+04],\n",
       "       [5.592000e+01, 1.370000e+02, 4.616281e+06, 2.435000e+04],\n",
       "       [3.480000e+01, 1.820000e+02, 4.456502e+06, 2.426700e+04],\n",
       "       [2.920000e+01, 2.200000e+02, 4.456501e+06, 2.426700e+04],\n",
       "       [5.779000e+01, 6.900000e+01, 4.616246e+06, 2.435000e+04],\n",
       "       [1.429000e+01, 5.210000e+02, 4.616260e+06, 2.435000e+04],\n",
       "       [1.988000e+01, 1.630000e+02, 4.456479e+06, 2.426700e+04],\n",
       "       [1.988000e+01, 3.890000e+02, 4.456478e+06, 2.426700e+04],\n",
       "       [1.926000e+01, 1.340000e+02, 4.616342e+06, 2.435000e+04],\n",
       "       [3.730000e+00, 3.236000e+03, 4.616257e+06, 2.435000e+04],\n",
       "       [2.423000e+01, 2.990000e+02, 4.616339e+06, 2.435000e+04],\n",
       "       [1.988000e+01, 4.660000e+02, 4.616340e+06, 2.435000e+04],\n",
       "       [2.113000e+01, 3.320000e+02, 4.616235e+06, 2.435000e+04],\n",
       "       [4.971000e+01, 8.200000e+01, 4.616229e+06, 2.435000e+04],\n",
       "       [2.485000e+01, 2.880000e+02, 4.616232e+06, 2.435000e+04],\n",
       "       [4.101000e+01, 3.760000e+02, 4.616271e+06, 2.435000e+04],\n",
       "       [5.220000e+01, 1.070000e+02, 4.616252e+06, 2.435000e+04],\n",
       "       [2.423000e+01, 2.260000e+02, 4.616266e+06, 2.435000e+04],\n",
       "       [4.722000e+01, 9.900000e+01, 4.456497e+06, 2.426700e+04],\n",
       "       [5.095000e+01, 4.900000e+01, 4.616305e+06, 2.435000e+04],\n",
       "       [3.418000e+01, 2.320000e+02, 4.616312e+06, 2.435000e+04],\n",
       "       [2.113000e+01, 2.130000e+02, 4.456496e+06, 2.426700e+04],\n",
       "       [5.592000e+01, 1.650000e+02, 4.616355e+06, 2.435000e+04],\n",
       "       [1.491000e+01, 2.450000e+02, 4.616356e+06, 2.435000e+04],\n",
       "       [1.181000e+01, 9.920000e+02, 4.616357e+06, 2.435000e+04],\n",
       "       [2.610000e+01, 1.650000e+02, 4.616310e+06, 2.435000e+04]])"
      ]
     },
     "execution_count": 21,
     "metadata": {},
     "output_type": "execute_result"
    }
   ],
   "source": [
    "xtest"
   ]
  },
  {
   "cell_type": "code",
   "execution_count": 22,
   "id": "8d553ab7-0fc3-461b-9b16-da117abfff71",
   "metadata": {},
   "outputs": [
    {
     "data": {
      "text/html": [
       "<div>\n",
       "<style scoped>\n",
       "    .dataframe tbody tr th:only-of-type {\n",
       "        vertical-align: middle;\n",
       "    }\n",
       "\n",
       "    .dataframe tbody tr th {\n",
       "        vertical-align: top;\n",
       "    }\n",
       "\n",
       "    .dataframe thead th {\n",
       "        text-align: right;\n",
       "    }\n",
       "</style>\n",
       "<table border=\"1\" class=\"dataframe\">\n",
       "  <thead>\n",
       "    <tr style=\"text-align: right;\">\n",
       "      <th></th>\n",
       "      <th>t</th>\n",
       "      <th>p</th>\n",
       "    </tr>\n",
       "  </thead>\n",
       "  <tbody>\n",
       "    <tr>\n",
       "      <th>0</th>\n",
       "      <td>21.13</td>\n",
       "      <td>[39.63403969277655]</td>\n",
       "    </tr>\n",
       "    <tr>\n",
       "      <th>1</th>\n",
       "      <td>22.99</td>\n",
       "      <td>[26.55493618601977]</td>\n",
       "    </tr>\n",
       "    <tr>\n",
       "      <th>2</th>\n",
       "      <td>22.99</td>\n",
       "      <td>[25.61821982292243]</td>\n",
       "    </tr>\n",
       "    <tr>\n",
       "      <th>3</th>\n",
       "      <td>19.88</td>\n",
       "      <td>[35.240276824473106]</td>\n",
       "    </tr>\n",
       "    <tr>\n",
       "      <th>4</th>\n",
       "      <td>21.13</td>\n",
       "      <td>[28.26749855097009]</td>\n",
       "    </tr>\n",
       "    <tr>\n",
       "      <th>5</th>\n",
       "      <td>55.92</td>\n",
       "      <td>[53.995110588707654]</td>\n",
       "    </tr>\n",
       "    <tr>\n",
       "      <th>6</th>\n",
       "      <td>34.80</td>\n",
       "      <td>[37.550113323089334]</td>\n",
       "    </tr>\n",
       "    <tr>\n",
       "      <th>7</th>\n",
       "      <td>29.20</td>\n",
       "      <td>[29.644927332254415]</td>\n",
       "    </tr>\n",
       "    <tr>\n",
       "      <th>8</th>\n",
       "      <td>57.79</td>\n",
       "      <td>[62.89802712241524]</td>\n",
       "    </tr>\n",
       "    <tr>\n",
       "      <th>9</th>\n",
       "      <td>14.29</td>\n",
       "      <td>[19.377890170311552]</td>\n",
       "    </tr>\n",
       "    <tr>\n",
       "      <th>10</th>\n",
       "      <td>19.88</td>\n",
       "      <td>[39.97799267208905]</td>\n",
       "    </tr>\n",
       "    <tr>\n",
       "      <th>11</th>\n",
       "      <td>19.88</td>\n",
       "      <td>[21.028136135400423]</td>\n",
       "    </tr>\n",
       "    <tr>\n",
       "      <th>12</th>\n",
       "      <td>19.26</td>\n",
       "      <td>[57.32682867972475]</td>\n",
       "    </tr>\n",
       "    <tr>\n",
       "      <th>13</th>\n",
       "      <td>3.73</td>\n",
       "      <td>[2.464871130522976]</td>\n",
       "    </tr>\n",
       "    <tr>\n",
       "      <th>14</th>\n",
       "      <td>24.23</td>\n",
       "      <td>[22.8662750175172]</td>\n",
       "    </tr>\n",
       "    <tr>\n",
       "      <th>15</th>\n",
       "      <td>19.88</td>\n",
       "      <td>[22.179294354447997]</td>\n",
       "    </tr>\n",
       "    <tr>\n",
       "      <th>16</th>\n",
       "      <td>21.13</td>\n",
       "      <td>[18.039174614891273]</td>\n",
       "    </tr>\n",
       "    <tr>\n",
       "      <th>17</th>\n",
       "      <td>49.71</td>\n",
       "      <td>[52.89039519261478]</td>\n",
       "    </tr>\n",
       "    <tr>\n",
       "      <th>18</th>\n",
       "      <td>24.85</td>\n",
       "      <td>[19.947309771181594]</td>\n",
       "    </tr>\n",
       "    <tr>\n",
       "      <th>19</th>\n",
       "      <td>41.01</td>\n",
       "      <td>[20.894471261327258]</td>\n",
       "    </tr>\n",
       "    <tr>\n",
       "      <th>20</th>\n",
       "      <td>52.20</td>\n",
       "      <td>[51.775833328752356]</td>\n",
       "    </tr>\n",
       "    <tr>\n",
       "      <th>21</th>\n",
       "      <td>24.23</td>\n",
       "      <td>[21.578237995540096]</td>\n",
       "    </tr>\n",
       "    <tr>\n",
       "      <th>22</th>\n",
       "      <td>47.22</td>\n",
       "      <td>[45.92858141974145]</td>\n",
       "    </tr>\n",
       "    <tr>\n",
       "      <th>23</th>\n",
       "      <td>50.95</td>\n",
       "      <td>[51.73251623406753]</td>\n",
       "    </tr>\n",
       "    <tr>\n",
       "      <th>24</th>\n",
       "      <td>34.18</td>\n",
       "      <td>[54.62156547256812]</td>\n",
       "    </tr>\n",
       "    <tr>\n",
       "      <th>25</th>\n",
       "      <td>21.13</td>\n",
       "      <td>[32.78191683869586]</td>\n",
       "    </tr>\n",
       "    <tr>\n",
       "      <th>26</th>\n",
       "      <td>55.92</td>\n",
       "      <td>[60.66977468377619]</td>\n",
       "    </tr>\n",
       "    <tr>\n",
       "      <th>27</th>\n",
       "      <td>14.91</td>\n",
       "      <td>[28.694831114531805]</td>\n",
       "    </tr>\n",
       "    <tr>\n",
       "      <th>28</th>\n",
       "      <td>11.81</td>\n",
       "      <td>[11.422456302261695]</td>\n",
       "    </tr>\n",
       "    <tr>\n",
       "      <th>29</th>\n",
       "      <td>26.10</td>\n",
       "      <td>[31.89186660810323]</td>\n",
       "    </tr>\n",
       "  </tbody>\n",
       "</table>\n",
       "</div>"
      ],
      "text/plain": [
       "        t                     p\n",
       "0   21.13   [39.63403969277655]\n",
       "1   22.99   [26.55493618601977]\n",
       "2   22.99   [25.61821982292243]\n",
       "3   19.88  [35.240276824473106]\n",
       "4   21.13   [28.26749855097009]\n",
       "5   55.92  [53.995110588707654]\n",
       "6   34.80  [37.550113323089334]\n",
       "7   29.20  [29.644927332254415]\n",
       "8   57.79   [62.89802712241524]\n",
       "9   14.29  [19.377890170311552]\n",
       "10  19.88   [39.97799267208905]\n",
       "11  19.88  [21.028136135400423]\n",
       "12  19.26   [57.32682867972475]\n",
       "13   3.73   [2.464871130522976]\n",
       "14  24.23    [22.8662750175172]\n",
       "15  19.88  [22.179294354447997]\n",
       "16  21.13  [18.039174614891273]\n",
       "17  49.71   [52.89039519261478]\n",
       "18  24.85  [19.947309771181594]\n",
       "19  41.01  [20.894471261327258]\n",
       "20  52.20  [51.775833328752356]\n",
       "21  24.23  [21.578237995540096]\n",
       "22  47.22   [45.92858141974145]\n",
       "23  50.95   [51.73251623406753]\n",
       "24  34.18   [54.62156547256812]\n",
       "25  21.13   [32.78191683869586]\n",
       "26  55.92   [60.66977468377619]\n",
       "27  14.91  [28.694831114531805]\n",
       "28  11.81  [11.422456302261695]\n",
       "29  26.10   [31.89186660810323]"
      ]
     },
     "execution_count": 22,
     "metadata": {},
     "output_type": "execute_result"
    }
   ],
   "source": [
    "pf = prediction(xtest, train)\n",
    "pf\n",
    "    "
   ]
  },
  {
   "cell_type": "code",
   "execution_count": 23,
   "id": "008940bb-219d-4efb-8ef6-7b8f41d69402",
   "metadata": {},
   "outputs": [
    {
     "data": {
      "text/plain": [
       "array([21.13, 22.99, 22.99, 19.88, 21.13, 55.92, 34.8 , 29.2 , 57.79,\n",
       "       14.29, 19.88, 19.88, 19.26,  3.73, 24.23, 19.88, 21.13, 49.71,\n",
       "       24.85, 41.01, 52.2 , 24.23, 47.22, 50.95, 34.18, 21.13, 55.92,\n",
       "       14.91, 11.81, 26.1 ])"
      ]
     },
     "execution_count": 23,
     "metadata": {},
     "output_type": "execute_result"
    }
   ],
   "source": [
    "xtest[:,0]"
   ]
  },
  {
   "cell_type": "code",
   "execution_count": 25,
   "id": "ffeaf796-421a-43b2-bd70-9a2d39c3694a",
   "metadata": {},
   "outputs": [
    {
     "name": "stdout",
     "output_type": "stream",
     "text": [
      "range(0, 30)\n"
     ]
    },
    {
     "data": {
      "image/png": "[encoded data removed]",
      "text/plain": [
       "<Figure size 1440x720 with 1 Axes>"
      ]
     },
     "metadata": {
      "needs_background": "light"
     },
     "output_type": "display_data"
    },
    {
     "data": {
      "text/plain": [
       "<Figure size 432x288 with 0 Axes>"
      ]
     },
     "metadata": {},
     "output_type": "display_data"
    }
   ],
   "source": [
    "import matplotlib.pyplot as plt\n",
    "%matplotlib inline\n",
    "\n",
    "target = pf['t']\n",
    "pred = pf['p']\n",
    "\n",
    "e = range(0,len(pred))\n",
    "print(e)\n",
    "et = Time[:20]\n",
    "fig = plt.gcf()\n",
    "fig.set_size_inches(20,10)\n",
    "plt.plot(e, target, 'b', label='Target' )\n",
    "plt.plot(e, pred, 'r',label='KNN Single' )\n",
    "plt.xlabel('Time', fontsize=20)\n",
    "plt.ylabel('Speed', fontsize=20)\n",
    "#plt.title('Predictions vs Target', fontsize=20)\n",
    "plt.legend()\n",
    "plt.figure()\n",
    "plt.show()\n",
    "#plt.savefig('Knn_simple.JPG')"
   ]
  },
  {
   "cell_type": "code",
   "execution_count": 26,
   "id": "80efb508-0c69-485e-babf-d843ce96917d",
   "metadata": {},
   "outputs": [],
   "source": [
    "mse = []\n",
    "mae = []\n",
    "mape = []\n",
    "for i in range(len(pf['t'])):\n",
    "    e1 = np.square(np.subtract(pf['t'][i],pf['p'][i])).mean()\n",
    "    e2 = np.abs(pf['p'][i] - xtest[:,0][i])\n",
    "    e3 = np.abs( (pf['t'][i] - pf['p'][i])/pf['t'][i] )\n",
    "    mse.append(e1)\n",
    "    mae.append(e2)\n",
    "    mape.append(e3)"
   ]
  },
  {
   "cell_type": "code",
   "execution_count": 27,
   "id": "80e84dc7-a1ef-44ac-b2fc-d76ef08bfa77",
   "metadata": {},
   "outputs": [],
   "source": [
    "import pickle\n",
    "pickle_out = open(\"mse.pkl\",\"wb\")\n",
    "pickle.dump(mse, pickle_out)\n",
    "pickle_out.close()"
   ]
  },
  {
   "cell_type": "code",
   "execution_count": 28,
   "id": "4b2f5c4c-6a19-414e-823f-945eade5e201",
   "metadata": {},
   "outputs": [],
   "source": [
    "pickle_out = open(\"mape.pkl\",\"wb\")\n",
    "pickle.dump(mape, pickle_out)\n",
    "pickle_out.close()"
   ]
  },
  {
   "cell_type": "code",
   "execution_count": 29,
   "id": "ded6f7e7-5274-443a-bed3-ff964d3b3658",
   "metadata": {},
   "outputs": [
    {
     "name": "stdout",
     "output_type": "stream",
     "text": [
      "range(0, 30)\n"
     ]
    },
    {
     "data": {
      "image/png": "[encoded data removed]",
      "text/plain": [
       "<Figure size 1440x720 with 1 Axes>"
      ]
     },
     "metadata": {
      "needs_background": "light"
     },
     "output_type": "display_data"
    },
    {
     "data": {
      "text/plain": [
       "<Figure size 432x288 with 0 Axes>"
      ]
     },
     "metadata": {},
     "output_type": "display_data"
    }
   ],
   "source": [
    "e = range(0,len(pred))\n",
    "print(e)\n",
    "#et = Time[:20]\n",
    "fig = plt.gcf()\n",
    "fig.set_size_inches(20,10)\n",
    "plt.plot(e, mse, 'b', label='Error' )\n",
    "plt.xlabel('Time', fontsize=20)\n",
    "plt.ylabel('Mse', fontsize=20)\n",
    "#plt.title('MSE - Predictions vs Target')\n",
    "plt.legend()\n",
    "plt.figure()\n",
    "plt.show()"
   ]
  },
  {
   "cell_type": "code",
   "execution_count": 30,
   "id": "0e0e0373-a157-4454-bbd7-7d6ae385ad40",
   "metadata": {},
   "outputs": [
    {
     "data": {
      "image/png": "[encoded data removed]",
      "text/plain": [
       "<Figure size 1440x720 with 1 Axes>"
      ]
     },
     "metadata": {
      "needs_background": "light"
     },
     "output_type": "display_data"
    },
    {
     "data": {
      "text/plain": [
       "<Figure size 432x288 with 0 Axes>"
      ]
     },
     "metadata": {},
     "output_type": "display_data"
    }
   ],
   "source": [
    "fig = plt.gcf()\n",
    "fig.set_size_inches(20,10)\n",
    "plt.plot(e, mae, 'b', label='Error' )\n",
    "plt.xlabel('Time', fontsize=20)\n",
    "plt.ylabel('Mae', fontsize=20)\n",
    "plt.title('MAE - Predictions vs Target', fontsize=20)\n",
    "plt.legend()\n",
    "plt.figure()\n",
    "plt.show()"
   ]
  },
  {
   "cell_type": "code",
   "execution_count": 31,
   "id": "a0818cc8-b314-4390-9291-2d1d5ea0fae8",
   "metadata": {},
   "outputs": [
    {
     "data": {
      "image/png": "[encoded data removed]",
      "text/plain": [
       "<Figure size 1440x720 with 1 Axes>"
      ]
     },
     "metadata": {
      "needs_background": "light"
     },
     "output_type": "display_data"
    },
    {
     "data": {
      "text/plain": [
       "<Figure size 432x288 with 0 Axes>"
      ]
     },
     "metadata": {},
     "output_type": "display_data"
    }
   ],
   "source": [
    "fig = plt.gcf()\n",
    "fig.set_size_inches(20,10)\n",
    "plt.plot(e, mape, 'b', label='Error' )\n",
    "plt.xlabel('Time', fontsize=20)\n",
    "plt.ylabel('Mape', fontsize=20)\n",
    "plt.title('MAPE - Predictions vs Target', fontsize=20)\n",
    "plt.legend()\n",
    "plt.figure()\n",
    "plt.show()"
   ]
  },
  {
   "cell_type": "code",
   "execution_count": 32,
   "id": "44285d96",
   "metadata": {},
   "outputs": [
    {
     "data": {
      "text/html": [
       "<div>\n",
       "<style scoped>\n",
       "    .dataframe tbody tr th:only-of-type {\n",
       "        vertical-align: middle;\n",
       "    }\n",
       "\n",
       "    .dataframe tbody tr th {\n",
       "        vertical-align: top;\n",
       "    }\n",
       "\n",
       "    .dataframe thead th {\n",
       "        text-align: right;\n",
       "    }\n",
       "</style>\n",
       "<table border=\"1\" class=\"dataframe\">\n",
       "  <thead>\n",
       "    <tr style=\"text-align: right;\">\n",
       "      <th></th>\n",
       "      <th>mse</th>\n",
       "      <th>mape</th>\n",
       "      <th>mae</th>\n",
       "    </tr>\n",
       "  </thead>\n",
       "  <tbody>\n",
       "    <tr>\n",
       "      <th>0</th>\n",
       "      <td>127.771803</td>\n",
       "      <td>0.328567</td>\n",
       "      <td>7.333291</td>\n",
       "    </tr>\n",
       "  </tbody>\n",
       "</table>\n",
       "</div>"
      ],
      "text/plain": [
       "          mse      mape       mae\n",
       "0  127.771803  0.328567  7.333291"
      ]
     },
     "execution_count": 32,
     "metadata": {},
     "output_type": "execute_result"
    }
   ],
   "source": [
    "mse_sum = 0\n",
    "mae_sum = 0\n",
    "mape_sum = 0\n",
    "\n",
    "for i in range(len(mse)):\n",
    "    mse_sum = mse_sum + mse[i]\n",
    "    mae_sum = mae_sum + mae[i]\n",
    "    mape_sum = mape_sum + mape[i]\n",
    "\n",
    "rep={'mse': mse_sum/len(mse),\n",
    "     'mape': mape_sum/len(mse),\n",
    "     'mae': mae_sum/len(mse) \n",
    "}\n",
    "df_errors = pd.DataFrame(data=rep)\n",
    "df_errors\n"
   ]
  },
  {
   "cell_type": "code",
   "execution_count": null,
   "id": "01a55680",
   "metadata": {},
   "outputs": [],
   "source": []
  }
 ],
 "metadata": {
  "kernelspec": {
   "display_name": "Python 3",
   "language": "python",
   "name": "python3"
  },
  "language_info": {
   "codemirror_mode": {
    "name": "ipython",
    "version": 3
   },
   "file_extension": ".py",
   "mimetype": "text/x-python",
   "name": "python",
   "nbconvert_exporter": "python",
   "pygments_lexer": "ipython3",
   "version": "3.8.8"
  }
 },
 "nbformat": 4,
 "nbformat_minor": 5
}
