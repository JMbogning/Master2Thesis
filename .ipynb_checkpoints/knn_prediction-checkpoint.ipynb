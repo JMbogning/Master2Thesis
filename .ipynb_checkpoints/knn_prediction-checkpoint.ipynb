{
 "cells": [
  {
   "cell_type": "code",
   "execution_count": 2,
   "id": "54159283-6f1f-41a6-a8a7-7874e868686c",
   "metadata": {},
   "outputs": [],
   "source": [
    "from numpy.random import randn\n",
    "from numpy.random import seed\n",
    "from scipy.stats import pearsonr"
   ]
  },
  {
   "cell_type": "code",
   "execution_count": 3,
   "id": "925b15c2-28ff-4cf7-985e-5d8c7a404232",
   "metadata": {},
   "outputs": [],
   "source": [
    "import pandas as pd #pandas for data import\n",
    "import numpy as np # numpy for array manupulation\n",
    "from sklearn import preprocessing, neighbors #just in case\n",
    "from sklearn.model_selection import train_test_split #split our data into train and test chunks\n",
    "from scipy.spatial import distance"
   ]
  },
  {
   "cell_type": "code",
   "execution_count": 5,
   "id": "48b1912d-b73e-47af-9bc3-9ecc9c5c3b59",
   "metadata": {},
   "outputs": [],
   "source": [
    "import numpy as np"
   ]
  },
  {
   "cell_type": "code",
   "execution_count": 25,
   "id": "a459eab3-49bd-4605-8a4f-98a6a4a9bf7d",
   "metadata": {},
   "outputs": [],
   "source": [
    "df_june = pd.read_csv('C:/Users/giscard/Documents/road data/input/june2016.csv') #importing the June data"
   ]
  },
  {
   "cell_type": "code",
   "execution_count": 15,
   "id": "6bada052-16b3-4364-af18-51286a2953d8",
   "metadata": {},
   "outputs": [
    {
     "data": {
      "text/html": [
       "<div>\n",
       "<style scoped>\n",
       "    .dataframe tbody tr th:only-of-type {\n",
       "        vertical-align: middle;\n",
       "    }\n",
       "\n",
       "    .dataframe tbody tr th {\n",
       "        vertical-align: top;\n",
       "    }\n",
       "\n",
       "    .dataframe thead th {\n",
       "        text-align: right;\n",
       "    }\n",
       "</style>\n",
       "<table border=\"1\" class=\"dataframe\">\n",
       "  <thead>\n",
       "    <tr style=\"text-align: right;\">\n",
       "      <th></th>\n",
       "      <th>Id</th>\n",
       "      <th>Speed</th>\n",
       "      <th>TravelTime</th>\n",
       "      <th>Status</th>\n",
       "      <th>DataAsOf</th>\n",
       "      <th>linkId</th>\n",
       "    </tr>\n",
       "  </thead>\n",
       "  <tbody>\n",
       "    <tr>\n",
       "      <th>0</th>\n",
       "      <td>1</td>\n",
       "      <td>21.13</td>\n",
       "      <td>201</td>\n",
       "      <td>0</td>\n",
       "      <td>6/2/2016 06:45:50</td>\n",
       "      <td>4616337</td>\n",
       "    </tr>\n",
       "    <tr>\n",
       "      <th>1</th>\n",
       "      <td>2</td>\n",
       "      <td>22.99</td>\n",
       "      <td>120</td>\n",
       "      <td>0</td>\n",
       "      <td>6/2/2016 06:45:50</td>\n",
       "      <td>4616325</td>\n",
       "    </tr>\n",
       "    <tr>\n",
       "      <th>2</th>\n",
       "      <td>3</td>\n",
       "      <td>22.99</td>\n",
       "      <td>287</td>\n",
       "      <td>0</td>\n",
       "      <td>6/2/2016 06:45:50</td>\n",
       "      <td>4616324</td>\n",
       "    </tr>\n",
       "    <tr>\n",
       "      <th>3</th>\n",
       "      <td>4</td>\n",
       "      <td>19.88</td>\n",
       "      <td>162</td>\n",
       "      <td>0</td>\n",
       "      <td>6/2/2016 06:45:50</td>\n",
       "      <td>4616338</td>\n",
       "    </tr>\n",
       "    <tr>\n",
       "      <th>4</th>\n",
       "      <td>106</td>\n",
       "      <td>21.13</td>\n",
       "      <td>109</td>\n",
       "      <td>0</td>\n",
       "      <td>6/2/2016 06:45:50</td>\n",
       "      <td>4616323</td>\n",
       "    </tr>\n",
       "    <tr>\n",
       "      <th>...</th>\n",
       "      <td>...</td>\n",
       "      <td>...</td>\n",
       "      <td>...</td>\n",
       "      <td>...</td>\n",
       "      <td>...</td>\n",
       "      <td>...</td>\n",
       "    </tr>\n",
       "    <tr>\n",
       "      <th>1130503</th>\n",
       "      <td>206</td>\n",
       "      <td>34.80</td>\n",
       "      <td>334</td>\n",
       "      <td>0</td>\n",
       "      <td>6/29/2016 15:39:52</td>\n",
       "      <td>4362252</td>\n",
       "    </tr>\n",
       "    <tr>\n",
       "      <th>1130504</th>\n",
       "      <td>202</td>\n",
       "      <td>54.06</td>\n",
       "      <td>43</td>\n",
       "      <td>0</td>\n",
       "      <td>6/30/2016 23:54:57</td>\n",
       "      <td>4456483</td>\n",
       "    </tr>\n",
       "    <tr>\n",
       "      <th>1130505</th>\n",
       "      <td>142</td>\n",
       "      <td>55.92</td>\n",
       "      <td>134</td>\n",
       "      <td>0</td>\n",
       "      <td>6/30/2016 23:55:32</td>\n",
       "      <td>4616261</td>\n",
       "    </tr>\n",
       "    <tr>\n",
       "      <th>1130506</th>\n",
       "      <td>126</td>\n",
       "      <td>59.03</td>\n",
       "      <td>127</td>\n",
       "      <td>0</td>\n",
       "      <td>6/30/2016 23:55:32</td>\n",
       "      <td>4616247</td>\n",
       "    </tr>\n",
       "    <tr>\n",
       "      <th>1130507</th>\n",
       "      <td>338</td>\n",
       "      <td>47.85</td>\n",
       "      <td>106</td>\n",
       "      <td>0</td>\n",
       "      <td>6/30/2016 23:55:32</td>\n",
       "      <td>4616255</td>\n",
       "    </tr>\n",
       "  </tbody>\n",
       "</table>\n",
       "<p>1130508 rows × 6 columns</p>\n",
       "</div>"
      ],
      "text/plain": [
       "          Id  Speed  TravelTime  Status            DataAsOf   linkId\n",
       "0          1  21.13         201       0   6/2/2016 06:45:50  4616337\n",
       "1          2  22.99         120       0   6/2/2016 06:45:50  4616325\n",
       "2          3  22.99         287       0   6/2/2016 06:45:50  4616324\n",
       "3          4  19.88         162       0   6/2/2016 06:45:50  4616338\n",
       "4        106  21.13         109       0   6/2/2016 06:45:50  4616323\n",
       "...      ...    ...         ...     ...                 ...      ...\n",
       "1130503  206  34.80         334       0  6/29/2016 15:39:52  4362252\n",
       "1130504  202  54.06          43       0  6/30/2016 23:54:57  4456483\n",
       "1130505  142  55.92         134       0  6/30/2016 23:55:32  4616261\n",
       "1130506  126  59.03         127       0  6/30/2016 23:55:32  4616247\n",
       "1130507  338  47.85         106       0  6/30/2016 23:55:32  4616255\n",
       "\n",
       "[1130508 rows x 6 columns]"
      ]
     },
     "execution_count": 15,
     "metadata": {},
     "output_type": "execute_result"
    }
   ],
   "source": [
    "df_june"
   ]
  },
  {
   "cell_type": "code",
   "execution_count": 16,
   "id": "0fcb0f22-5602-436d-9375-5047c77e2165",
   "metadata": {},
   "outputs": [
    {
     "data": {
      "text/html": [
       "<div>\n",
       "<style scoped>\n",
       "    .dataframe tbody tr th:only-of-type {\n",
       "        vertical-align: middle;\n",
       "    }\n",
       "\n",
       "    .dataframe tbody tr th {\n",
       "        vertical-align: top;\n",
       "    }\n",
       "\n",
       "    .dataframe thead th {\n",
       "        text-align: right;\n",
       "    }\n",
       "</style>\n",
       "<table border=\"1\" class=\"dataframe\">\n",
       "  <thead>\n",
       "    <tr style=\"text-align: right;\">\n",
       "      <th></th>\n",
       "      <th>Id</th>\n",
       "      <th>Speed</th>\n",
       "      <th>TravelTime</th>\n",
       "      <th>Status</th>\n",
       "      <th>linkId</th>\n",
       "    </tr>\n",
       "  </thead>\n",
       "  <tbody>\n",
       "    <tr>\n",
       "      <th>count</th>\n",
       "      <td>1.130508e+06</td>\n",
       "      <td>1.130508e+06</td>\n",
       "      <td>1.130508e+06</td>\n",
       "      <td>1130508.0</td>\n",
       "      <td>1.130508e+06</td>\n",
       "    </tr>\n",
       "    <tr>\n",
       "      <th>mean</th>\n",
       "      <td>2.885599e+02</td>\n",
       "      <td>3.904923e+01</td>\n",
       "      <td>2.525334e+02</td>\n",
       "      <td>0.0</td>\n",
       "      <td>4.575776e+06</td>\n",
       "    </tr>\n",
       "    <tr>\n",
       "      <th>std</th>\n",
       "      <td>1.188686e+02</td>\n",
       "      <td>1.714216e+01</td>\n",
       "      <td>4.120394e+02</td>\n",
       "      <td>0.0</td>\n",
       "      <td>1.018175e+05</td>\n",
       "    </tr>\n",
       "    <tr>\n",
       "      <th>min</th>\n",
       "      <td>1.000000e+00</td>\n",
       "      <td>0.000000e+00</td>\n",
       "      <td>2.000000e+00</td>\n",
       "      <td>0.0</td>\n",
       "      <td>4.329472e+06</td>\n",
       "    </tr>\n",
       "    <tr>\n",
       "      <th>25%</th>\n",
       "      <td>1.840000e+02</td>\n",
       "      <td>2.423000e+01</td>\n",
       "      <td>9.200000e+01</td>\n",
       "      <td>0.0</td>\n",
       "      <td>4.616193e+06</td>\n",
       "    </tr>\n",
       "    <tr>\n",
       "      <th>50%</th>\n",
       "      <td>3.160000e+02</td>\n",
       "      <td>4.412000e+01</td>\n",
       "      <td>1.480000e+02</td>\n",
       "      <td>0.0</td>\n",
       "      <td>4.616241e+06</td>\n",
       "    </tr>\n",
       "    <tr>\n",
       "      <th>75%</th>\n",
       "      <td>3.980000e+02</td>\n",
       "      <td>5.282000e+01</td>\n",
       "      <td>2.710000e+02</td>\n",
       "      <td>0.0</td>\n",
       "      <td>4.616332e+06</td>\n",
       "    </tr>\n",
       "    <tr>\n",
       "      <th>max</th>\n",
       "      <td>4.530000e+02</td>\n",
       "      <td>1.864100e+02</td>\n",
       "      <td>1.205400e+04</td>\n",
       "      <td>0.0</td>\n",
       "      <td>4.763657e+06</td>\n",
       "    </tr>\n",
       "  </tbody>\n",
       "</table>\n",
       "</div>"
      ],
      "text/plain": [
       "                 Id         Speed    TravelTime     Status        linkId\n",
       "count  1.130508e+06  1.130508e+06  1.130508e+06  1130508.0  1.130508e+06\n",
       "mean   2.885599e+02  3.904923e+01  2.525334e+02        0.0  4.575776e+06\n",
       "std    1.188686e+02  1.714216e+01  4.120394e+02        0.0  1.018175e+05\n",
       "min    1.000000e+00  0.000000e+00  2.000000e+00        0.0  4.329472e+06\n",
       "25%    1.840000e+02  2.423000e+01  9.200000e+01        0.0  4.616193e+06\n",
       "50%    3.160000e+02  4.412000e+01  1.480000e+02        0.0  4.616241e+06\n",
       "75%    3.980000e+02  5.282000e+01  2.710000e+02        0.0  4.616332e+06\n",
       "max    4.530000e+02  1.864100e+02  1.205400e+04        0.0  4.763657e+06"
      ]
     },
     "execution_count": 16,
     "metadata": {},
     "output_type": "execute_result"
    }
   ],
   "source": [
    "df_june.describe() #description of our data"
   ]
  },
  {
   "cell_type": "code",
   "execution_count": 50,
   "id": "36511bfd-022b-49ea-bc1c-74bce53b4ec8",
   "metadata": {},
   "outputs": [],
   "source": [
    "df_june.drop(['Id'], axis=1, inplace=True) #droping id\n",
    "df_june.drop(['Status'], axis=1, inplace=True) #droping Status"
   ]
  },
  {
   "cell_type": "code",
   "execution_count": 18,
   "id": "85221247-d042-4a93-98a1-750145d822a5",
   "metadata": {},
   "outputs": [
    {
     "data": {
      "text/html": [
       "<div>\n",
       "<style scoped>\n",
       "    .dataframe tbody tr th:only-of-type {\n",
       "        vertical-align: middle;\n",
       "    }\n",
       "\n",
       "    .dataframe tbody tr th {\n",
       "        vertical-align: top;\n",
       "    }\n",
       "\n",
       "    .dataframe thead th {\n",
       "        text-align: right;\n",
       "    }\n",
       "</style>\n",
       "<table border=\"1\" class=\"dataframe\">\n",
       "  <thead>\n",
       "    <tr style=\"text-align: right;\">\n",
       "      <th></th>\n",
       "      <th>Speed</th>\n",
       "      <th>TravelTime</th>\n",
       "      <th>DataAsOf</th>\n",
       "      <th>linkId</th>\n",
       "    </tr>\n",
       "  </thead>\n",
       "  <tbody>\n",
       "    <tr>\n",
       "      <th>0</th>\n",
       "      <td>21.13</td>\n",
       "      <td>201</td>\n",
       "      <td>6/2/2016 06:45:50</td>\n",
       "      <td>4616337</td>\n",
       "    </tr>\n",
       "    <tr>\n",
       "      <th>1</th>\n",
       "      <td>22.99</td>\n",
       "      <td>120</td>\n",
       "      <td>6/2/2016 06:45:50</td>\n",
       "      <td>4616325</td>\n",
       "    </tr>\n",
       "    <tr>\n",
       "      <th>2</th>\n",
       "      <td>22.99</td>\n",
       "      <td>287</td>\n",
       "      <td>6/2/2016 06:45:50</td>\n",
       "      <td>4616324</td>\n",
       "    </tr>\n",
       "    <tr>\n",
       "      <th>3</th>\n",
       "      <td>19.88</td>\n",
       "      <td>162</td>\n",
       "      <td>6/2/2016 06:45:50</td>\n",
       "      <td>4616338</td>\n",
       "    </tr>\n",
       "    <tr>\n",
       "      <th>4</th>\n",
       "      <td>21.13</td>\n",
       "      <td>109</td>\n",
       "      <td>6/2/2016 06:45:50</td>\n",
       "      <td>4616323</td>\n",
       "    </tr>\n",
       "    <tr>\n",
       "      <th>...</th>\n",
       "      <td>...</td>\n",
       "      <td>...</td>\n",
       "      <td>...</td>\n",
       "      <td>...</td>\n",
       "    </tr>\n",
       "    <tr>\n",
       "      <th>845</th>\n",
       "      <td>39.77</td>\n",
       "      <td>228</td>\n",
       "      <td>6/2/2016 07:15:49</td>\n",
       "      <td>4616355</td>\n",
       "    </tr>\n",
       "    <tr>\n",
       "      <th>846</th>\n",
       "      <td>11.18</td>\n",
       "      <td>328</td>\n",
       "      <td>6/2/2016 07:15:49</td>\n",
       "      <td>4616356</td>\n",
       "    </tr>\n",
       "    <tr>\n",
       "      <th>847</th>\n",
       "      <td>8.08</td>\n",
       "      <td>1449</td>\n",
       "      <td>6/2/2016 07:15:49</td>\n",
       "      <td>4616357</td>\n",
       "    </tr>\n",
       "    <tr>\n",
       "      <th>848</th>\n",
       "      <td>18.02</td>\n",
       "      <td>232</td>\n",
       "      <td>6/2/2016 07:15:49</td>\n",
       "      <td>4616310</td>\n",
       "    </tr>\n",
       "    <tr>\n",
       "      <th>849</th>\n",
       "      <td>19.88</td>\n",
       "      <td>214</td>\n",
       "      <td>6/2/2016 07:15:49</td>\n",
       "      <td>4616309</td>\n",
       "    </tr>\n",
       "  </tbody>\n",
       "</table>\n",
       "<p>850 rows × 4 columns</p>\n",
       "</div>"
      ],
      "text/plain": [
       "     Speed  TravelTime           DataAsOf   linkId\n",
       "0    21.13         201  6/2/2016 06:45:50  4616337\n",
       "1    22.99         120  6/2/2016 06:45:50  4616325\n",
       "2    22.99         287  6/2/2016 06:45:50  4616324\n",
       "3    19.88         162  6/2/2016 06:45:50  4616338\n",
       "4    21.13         109  6/2/2016 06:45:50  4616323\n",
       "..     ...         ...                ...      ...\n",
       "845  39.77         228  6/2/2016 07:15:49  4616355\n",
       "846  11.18         328  6/2/2016 07:15:49  4616356\n",
       "847   8.08        1449  6/2/2016 07:15:49  4616357\n",
       "848  18.02         232  6/2/2016 07:15:49  4616310\n",
       "849  19.88         214  6/2/2016 07:15:49  4616309\n",
       "\n",
       "[850 rows x 4 columns]"
      ]
     },
     "execution_count": 18,
     "metadata": {},
     "output_type": "execute_result"
    }
   ],
   "source": [
    "df_june.head(850)"
   ]
  },
  {
   "cell_type": "code",
   "execution_count": 29,
   "id": "bc0ddff8-fe6d-4b16-b0e9-cfb6b058e719",
   "metadata": {},
   "outputs": [],
   "source": [
    "time = pd.to_datetime(df_june.pop('DataAsOf'), format='%m/%d/%Y %H:%M:%S')"
   ]
  },
  {
   "cell_type": "code",
   "execution_count": 30,
   "id": "d96885eb-9fe8-4b3b-afbc-ca663f958fe8",
   "metadata": {},
   "outputs": [
    {
     "data": {
      "text/plain": [
       "0         2016-06-02 06:45:50\n",
       "1         2016-06-02 06:45:50\n",
       "2         2016-06-02 06:45:50\n",
       "3         2016-06-02 06:45:50\n",
       "4         2016-06-02 06:45:50\n",
       "                  ...        \n",
       "1130503   2016-06-29 15:39:52\n",
       "1130504   2016-06-30 23:54:57\n",
       "1130505   2016-06-30 23:55:32\n",
       "1130506   2016-06-30 23:55:32\n",
       "1130507   2016-06-30 23:55:32\n",
       "Name: DataAsOf, Length: 1130508, dtype: datetime64[ns]"
      ]
     },
     "execution_count": 30,
     "metadata": {},
     "output_type": "execute_result"
    }
   ],
   "source": [
    "time"
   ]
  },
  {
   "cell_type": "code",
   "execution_count": 31,
   "id": "9bebaede-ba49-4bba-a0ec-d888f2ea96d0",
   "metadata": {},
   "outputs": [],
   "source": [
    "timestamp_s = time.map(pd.Timestamp.timestamp)"
   ]
  },
  {
   "cell_type": "code",
   "execution_count": 32,
   "id": "84270965-620f-45fa-b533-432d4e62cd86",
   "metadata": {},
   "outputs": [],
   "source": [
    "Time = []\n",
    "for i in time:\n",
    "    Time.append(str(i.time()))"
   ]
  },
  {
   "cell_type": "code",
   "execution_count": 34,
   "id": "bab83a22-0f50-469e-9ef2-524c7f6f1949",
   "metadata": {},
   "outputs": [],
   "source": [
    "Time[0][:2]\n",
    "\n",
    "new_dateTime = []\n",
    "for i in Time:\n",
    "    time_sec = int(i[:2])*3600 + int(i[3:5])*60 + int(i[-2:])\n",
    "    new_dateTime.append(time_sec)"
   ]
  },
  {
   "cell_type": "code",
   "execution_count": 36,
   "id": "d17b2790-a6e3-43dc-9a70-255574f8ab39",
   "metadata": {},
   "outputs": [],
   "source": [
    "df_june['DataAsOf'] = new_dateTime"
   ]
  },
  {
   "cell_type": "code",
   "execution_count": 51,
   "id": "b4dd68d9-947a-407e-8309-6f6e0287ec94",
   "metadata": {},
   "outputs": [
    {
     "data": {
      "text/html": [
       "<div>\n",
       "<style scoped>\n",
       "    .dataframe tbody tr th:only-of-type {\n",
       "        vertical-align: middle;\n",
       "    }\n",
       "\n",
       "    .dataframe tbody tr th {\n",
       "        vertical-align: top;\n",
       "    }\n",
       "\n",
       "    .dataframe thead th {\n",
       "        text-align: right;\n",
       "    }\n",
       "</style>\n",
       "<table border=\"1\" class=\"dataframe\">\n",
       "  <thead>\n",
       "    <tr style=\"text-align: right;\">\n",
       "      <th></th>\n",
       "      <th>Speed</th>\n",
       "      <th>TravelTime</th>\n",
       "      <th>linkId</th>\n",
       "      <th>DataAsOf</th>\n",
       "    </tr>\n",
       "  </thead>\n",
       "  <tbody>\n",
       "    <tr>\n",
       "      <th>0</th>\n",
       "      <td>21.13</td>\n",
       "      <td>201</td>\n",
       "      <td>4616337</td>\n",
       "      <td>24350</td>\n",
       "    </tr>\n",
       "    <tr>\n",
       "      <th>1</th>\n",
       "      <td>22.99</td>\n",
       "      <td>120</td>\n",
       "      <td>4616325</td>\n",
       "      <td>24350</td>\n",
       "    </tr>\n",
       "    <tr>\n",
       "      <th>2</th>\n",
       "      <td>22.99</td>\n",
       "      <td>287</td>\n",
       "      <td>4616324</td>\n",
       "      <td>24350</td>\n",
       "    </tr>\n",
       "    <tr>\n",
       "      <th>3</th>\n",
       "      <td>19.88</td>\n",
       "      <td>162</td>\n",
       "      <td>4616338</td>\n",
       "      <td>24350</td>\n",
       "    </tr>\n",
       "    <tr>\n",
       "      <th>4</th>\n",
       "      <td>21.13</td>\n",
       "      <td>109</td>\n",
       "      <td>4616323</td>\n",
       "      <td>24350</td>\n",
       "    </tr>\n",
       "    <tr>\n",
       "      <th>...</th>\n",
       "      <td>...</td>\n",
       "      <td>...</td>\n",
       "      <td>...</td>\n",
       "      <td>...</td>\n",
       "    </tr>\n",
       "    <tr>\n",
       "      <th>1130503</th>\n",
       "      <td>34.80</td>\n",
       "      <td>334</td>\n",
       "      <td>4362252</td>\n",
       "      <td>56392</td>\n",
       "    </tr>\n",
       "    <tr>\n",
       "      <th>1130504</th>\n",
       "      <td>54.06</td>\n",
       "      <td>43</td>\n",
       "      <td>4456483</td>\n",
       "      <td>86097</td>\n",
       "    </tr>\n",
       "    <tr>\n",
       "      <th>1130505</th>\n",
       "      <td>55.92</td>\n",
       "      <td>134</td>\n",
       "      <td>4616261</td>\n",
       "      <td>86132</td>\n",
       "    </tr>\n",
       "    <tr>\n",
       "      <th>1130506</th>\n",
       "      <td>59.03</td>\n",
       "      <td>127</td>\n",
       "      <td>4616247</td>\n",
       "      <td>86132</td>\n",
       "    </tr>\n",
       "    <tr>\n",
       "      <th>1130507</th>\n",
       "      <td>47.85</td>\n",
       "      <td>106</td>\n",
       "      <td>4616255</td>\n",
       "      <td>86132</td>\n",
       "    </tr>\n",
       "  </tbody>\n",
       "</table>\n",
       "<p>1130508 rows × 4 columns</p>\n",
       "</div>"
      ],
      "text/plain": [
       "         Speed  TravelTime   linkId  DataAsOf\n",
       "0        21.13         201  4616337     24350\n",
       "1        22.99         120  4616325     24350\n",
       "2        22.99         287  4616324     24350\n",
       "3        19.88         162  4616338     24350\n",
       "4        21.13         109  4616323     24350\n",
       "...        ...         ...      ...       ...\n",
       "1130503  34.80         334  4362252     56392\n",
       "1130504  54.06          43  4456483     86097\n",
       "1130505  55.92         134  4616261     86132\n",
       "1130506  59.03         127  4616247     86132\n",
       "1130507  47.85         106  4616255     86132\n",
       "\n",
       "[1130508 rows x 4 columns]"
      ]
     },
     "execution_count": 51,
     "metadata": {},
     "output_type": "execute_result"
    }
   ],
   "source": [
    "df_june"
   ]
  },
  {
   "cell_type": "code",
   "execution_count": 38,
   "id": "0dd0ead9-9a0a-4bbf-a41e-571298f76f51",
   "metadata": {},
   "outputs": [],
   "source": [
    "data = np.array(df_june)\n",
    "xtest = data[:20]\n",
    "train = data[20:]"
   ]
  },
  {
   "cell_type": "markdown",
   "id": "8e2901d8-11c6-45bd-9b81-6d71106c6fde",
   "metadata": {},
   "source": [
    "*<h3> <strong> Pearson Correlation Coefficient </strong> </h3>*\n",
    "\n",
    "$$ r = \\dfrac{\\sum(X_i - X_m)(Y_i - Y_m)} {\\sqrt{\\sum(X_i - X_m)^2\\sum(Y_i - Y_m)^2}}$$\n",
    "\n",
    "*<h3> <strong> KNN </strong> </h3>*\n",
    "$$ di = \\sqrt{\\sum Wi (V_i - v_ij)} $$\n",
    "\n",
    "*<h3> <strong> Prediction algorithm </strong> </h3>*\n",
    "\n",
    "<img src='Capture.PNG' alt='not suppoted'>\n"
   ]
  },
  {
   "cell_type": "code",
   "execution_count": 42,
   "id": "478a10e4-c311-45df-91a4-bfb8b043a234",
   "metadata": {},
   "outputs": [],
   "source": [
    "import scipy.spatial.distance\n",
    "\n",
    "\n",
    "def corr(data1, data2):\n",
    "    data1_mean = np.mean(data1)\n",
    "    data2_mean = np.mean(data2)\n",
    "    s_1 = 0\n",
    "    for i in range(len(data1)):\n",
    "        s_1 = s_1 + (data1[i] - data1_mean)*(data2[i] - data2_mean)\n",
    "    s_2 = 0\n",
    "    for i in range(len(data1)):\n",
    "        s_2 = s_2 + (data1[i] - data1_mean)*(data1[i] - data1_mean)\n",
    "    s_3 = 0\n",
    "    for i in range(len(data1)):\n",
    "        s_3 = s_3 + (data2[i] - data2_mean)*(data2[i] - data2_mean)\n",
    "    s_3\n",
    "    r = s_1/ np.sqrt(s_3*s_2)\n",
    "    return r \n",
    "\n",
    "def knn(data, test, k=3):\n",
    "    distance_list = []\n",
    "    for features in data:\n",
    "        #r,_ = pearsonr(features, test)\n",
    "        r = corr(test,features)\n",
    "        dist = np.sqrt( np.sum( r*np.square(test - features) ) ) \n",
    "        #dist = distance.euclidean(test[1:], features[1:], corr(test[1:],features[1:]))\n",
    "        distance_list.append([dist, features[:1]])\n",
    "    return sorted(distance_list)[:k]\n",
    "def prediction(x_test, data):\n",
    "    true = []\n",
    "    pred = []\n",
    "    result={ 't': true,\n",
    "            'p': pred   \n",
    "    }\n",
    "    for i in x_test:\n",
    "        \n",
    "        r = knn(data, i, k=5)\n",
    "        \n",
    "        distances = [i[0] for i in r if i[0] !=0.0]\n",
    "        #print(np.mean(distances))\n",
    "        Sg = [i[1] for i in r if i[0] !=0.0]\n",
    "        d_1 = [1/i for i in distances if i !=0.0]\n",
    "        Sm =  np.dot(d_1/np.sum(d_1), Sg)+2\n",
    "        result['p'].append(Sm)\n",
    "        \n",
    "    result['t'] = x_test[:,0]\n",
    "    df = pd.DataFrame(data=result)\n",
    "    #print(df.head(100))\n",
    "    return df\n"
   ]
  },
  {
   "cell_type": "code",
   "execution_count": 22,
   "id": "ff068683-89ea-456a-a9d4-c51971c8e2d6",
   "metadata": {
    "scrolled": true,
    "tags": []
   },
   "outputs": [
    {
     "data": {
      "text/plain": [
       "[[38.14842722839304, array([34.18])],\n",
       " [41.813204852055996, array([55.92])],\n",
       " [45.36174710039286, array([47.22])],\n",
       " [46.64713924776093, array([57.79])],\n",
       " [48.55339432006787, array([44.74])],\n",
       " [51.0317548199158, array([32.93])],\n",
       " [51.36545531775223, array([59.03])],\n",
       " [57.703560548721754, array([26.1])]]"
      ]
     },
     "execution_count": 22,
     "metadata": {},
     "output_type": "execute_result"
    }
   ],
   "source": [
    "t = [2.11300000e+01, 1.09000000e+02, 4.61632300e+06, 1.46484995e+09]\n",
    "p = knn(train, t, k=8)\n",
    "p\n"
   ]
  },
  {
   "cell_type": "code",
   "execution_count": 72,
   "id": "104b9793-fedc-4b85-ad11-b4d31550bd63",
   "metadata": {},
   "outputs": [],
   "source": [
    "data = np.array(df_june)\n",
    "xtest = data[:30]\n",
    "train = data[30:]"
   ]
  },
  {
   "cell_type": "code",
   "execution_count": 53,
   "id": "282e2eb6-9b0f-4af6-b3e6-d2a0075a98c5",
   "metadata": {
    "scrolled": true,
    "tags": []
   },
   "outputs": [
    {
     "data": {
      "text/plain": [
       "array([[2.113000e+01, 2.010000e+02, 4.616337e+06, 2.435000e+04],\n",
       "       [2.299000e+01, 1.200000e+02, 4.616325e+06, 2.435000e+04],\n",
       "       [2.299000e+01, 2.870000e+02, 4.616324e+06, 2.435000e+04],\n",
       "       [1.988000e+01, 1.620000e+02, 4.616338e+06, 2.435000e+04],\n",
       "       [2.113000e+01, 1.090000e+02, 4.616323e+06, 2.435000e+04],\n",
       "       [5.592000e+01, 1.370000e+02, 4.616281e+06, 2.435000e+04],\n",
       "       [3.480000e+01, 1.820000e+02, 4.456502e+06, 2.426700e+04],\n",
       "       [2.920000e+01, 2.200000e+02, 4.456501e+06, 2.426700e+04],\n",
       "       [5.779000e+01, 6.900000e+01, 4.616246e+06, 2.435000e+04],\n",
       "       [1.429000e+01, 5.210000e+02, 4.616260e+06, 2.435000e+04]])"
      ]
     },
     "execution_count": 53,
     "metadata": {},
     "output_type": "execute_result"
    }
   ],
   "source": [
    "xtest"
   ]
  },
  {
   "cell_type": "code",
   "execution_count": 73,
   "id": "8d553ab7-0fc3-461b-9b16-da117abfff71",
   "metadata": {},
   "outputs": [
    {
     "data": {
      "text/html": [
       "<div>\n",
       "<style scoped>\n",
       "    .dataframe tbody tr th:only-of-type {\n",
       "        vertical-align: middle;\n",
       "    }\n",
       "\n",
       "    .dataframe tbody tr th {\n",
       "        vertical-align: top;\n",
       "    }\n",
       "\n",
       "    .dataframe thead th {\n",
       "        text-align: right;\n",
       "    }\n",
       "</style>\n",
       "<table border=\"1\" class=\"dataframe\">\n",
       "  <thead>\n",
       "    <tr style=\"text-align: right;\">\n",
       "      <th></th>\n",
       "      <th>t</th>\n",
       "      <th>p</th>\n",
       "    </tr>\n",
       "  </thead>\n",
       "  <tbody>\n",
       "    <tr>\n",
       "      <th>0</th>\n",
       "      <td>21.13</td>\n",
       "      <td>[16.2187097644536]</td>\n",
       "    </tr>\n",
       "    <tr>\n",
       "      <th>1</th>\n",
       "      <td>22.99</td>\n",
       "      <td>[23.67258399070206]</td>\n",
       "    </tr>\n",
       "    <tr>\n",
       "      <th>2</th>\n",
       "      <td>22.99</td>\n",
       "      <td>[24.59427025522531]</td>\n",
       "    </tr>\n",
       "    <tr>\n",
       "      <th>3</th>\n",
       "      <td>19.88</td>\n",
       "      <td>[21.67394627060532]</td>\n",
       "    </tr>\n",
       "    <tr>\n",
       "      <th>4</th>\n",
       "      <td>21.13</td>\n",
       "      <td>[22.313146783741836]</td>\n",
       "    </tr>\n",
       "    <tr>\n",
       "      <th>5</th>\n",
       "      <td>55.92</td>\n",
       "      <td>[56.78808704914249]</td>\n",
       "    </tr>\n",
       "    <tr>\n",
       "      <th>6</th>\n",
       "      <td>34.80</td>\n",
       "      <td>[37.64792131846641]</td>\n",
       "    </tr>\n",
       "    <tr>\n",
       "      <th>7</th>\n",
       "      <td>29.20</td>\n",
       "      <td>[30.682754250051993]</td>\n",
       "    </tr>\n",
       "    <tr>\n",
       "      <th>8</th>\n",
       "      <td>57.79</td>\n",
       "      <td>[60.27111001527632]</td>\n",
       "    </tr>\n",
       "    <tr>\n",
       "      <th>9</th>\n",
       "      <td>14.29</td>\n",
       "      <td>[19.213954226692323]</td>\n",
       "    </tr>\n",
       "    <tr>\n",
       "      <th>10</th>\n",
       "      <td>19.88</td>\n",
       "      <td>[37.23046852515971]</td>\n",
       "    </tr>\n",
       "    <tr>\n",
       "      <th>11</th>\n",
       "      <td>19.88</td>\n",
       "      <td>[20.21027114715331]</td>\n",
       "    </tr>\n",
       "    <tr>\n",
       "      <th>12</th>\n",
       "      <td>19.26</td>\n",
       "      <td>[21.195943464076766]</td>\n",
       "    </tr>\n",
       "    <tr>\n",
       "      <th>13</th>\n",
       "      <td>3.73</td>\n",
       "      <td>[2.464917857073271]</td>\n",
       "    </tr>\n",
       "    <tr>\n",
       "      <th>14</th>\n",
       "      <td>24.23</td>\n",
       "      <td>[26.20441952570114]</td>\n",
       "    </tr>\n",
       "    <tr>\n",
       "      <th>15</th>\n",
       "      <td>19.88</td>\n",
       "      <td>[22.57834233518906]</td>\n",
       "    </tr>\n",
       "    <tr>\n",
       "      <th>16</th>\n",
       "      <td>21.13</td>\n",
       "      <td>[17.76967157520411]</td>\n",
       "    </tr>\n",
       "    <tr>\n",
       "      <th>17</th>\n",
       "      <td>49.71</td>\n",
       "      <td>[52.45551128868138]</td>\n",
       "    </tr>\n",
       "    <tr>\n",
       "      <th>18</th>\n",
       "      <td>24.85</td>\n",
       "      <td>[20.852877032247033]</td>\n",
       "    </tr>\n",
       "    <tr>\n",
       "      <th>19</th>\n",
       "      <td>41.01</td>\n",
       "      <td>[34.66809254568257]</td>\n",
       "    </tr>\n",
       "    <tr>\n",
       "      <th>20</th>\n",
       "      <td>52.20</td>\n",
       "      <td>[52.205615072363216]</td>\n",
       "    </tr>\n",
       "    <tr>\n",
       "      <th>21</th>\n",
       "      <td>24.23</td>\n",
       "      <td>[18.34698852124196]</td>\n",
       "    </tr>\n",
       "    <tr>\n",
       "      <th>22</th>\n",
       "      <td>47.22</td>\n",
       "      <td>[46.36429716340396]</td>\n",
       "    </tr>\n",
       "    <tr>\n",
       "      <th>23</th>\n",
       "      <td>50.95</td>\n",
       "      <td>[51.55864739534157]</td>\n",
       "    </tr>\n",
       "    <tr>\n",
       "      <th>24</th>\n",
       "      <td>34.18</td>\n",
       "      <td>[47.54623615508144]</td>\n",
       "    </tr>\n",
       "    <tr>\n",
       "      <th>25</th>\n",
       "      <td>21.13</td>\n",
       "      <td>[29.18447505136645]</td>\n",
       "    </tr>\n",
       "    <tr>\n",
       "      <th>26</th>\n",
       "      <td>55.92</td>\n",
       "      <td>[59.879679382021486]</td>\n",
       "    </tr>\n",
       "    <tr>\n",
       "      <th>27</th>\n",
       "      <td>14.91</td>\n",
       "      <td>[15.89708597740449]</td>\n",
       "    </tr>\n",
       "    <tr>\n",
       "      <th>28</th>\n",
       "      <td>11.81</td>\n",
       "      <td>[11.87218639022238]</td>\n",
       "    </tr>\n",
       "    <tr>\n",
       "      <th>29</th>\n",
       "      <td>26.10</td>\n",
       "      <td>[26.650555763544855]</td>\n",
       "    </tr>\n",
       "  </tbody>\n",
       "</table>\n",
       "</div>"
      ],
      "text/plain": [
       "        t                     p\n",
       "0   21.13    [16.2187097644536]\n",
       "1   22.99   [23.67258399070206]\n",
       "2   22.99   [24.59427025522531]\n",
       "3   19.88   [21.67394627060532]\n",
       "4   21.13  [22.313146783741836]\n",
       "5   55.92   [56.78808704914249]\n",
       "6   34.80   [37.64792131846641]\n",
       "7   29.20  [30.682754250051993]\n",
       "8   57.79   [60.27111001527632]\n",
       "9   14.29  [19.213954226692323]\n",
       "10  19.88   [37.23046852515971]\n",
       "11  19.88   [20.21027114715331]\n",
       "12  19.26  [21.195943464076766]\n",
       "13   3.73   [2.464917857073271]\n",
       "14  24.23   [26.20441952570114]\n",
       "15  19.88   [22.57834233518906]\n",
       "16  21.13   [17.76967157520411]\n",
       "17  49.71   [52.45551128868138]\n",
       "18  24.85  [20.852877032247033]\n",
       "19  41.01   [34.66809254568257]\n",
       "20  52.20  [52.205615072363216]\n",
       "21  24.23   [18.34698852124196]\n",
       "22  47.22   [46.36429716340396]\n",
       "23  50.95   [51.55864739534157]\n",
       "24  34.18   [47.54623615508144]\n",
       "25  21.13   [29.18447505136645]\n",
       "26  55.92  [59.879679382021486]\n",
       "27  14.91   [15.89708597740449]\n",
       "28  11.81   [11.87218639022238]\n",
       "29  26.10  [26.650555763544855]"
      ]
     },
     "execution_count": 73,
     "metadata": {},
     "output_type": "execute_result"
    }
   ],
   "source": [
    "pf = prediction(xtest, train)\n",
    "pf\n",
    "    "
   ]
  },
  {
   "cell_type": "code",
   "execution_count": 26,
   "id": "008940bb-219d-4efb-8ef6-7b8f41d69402",
   "metadata": {},
   "outputs": [
    {
     "data": {
      "text/plain": [
       "array([21.13, 22.99, 22.99, 19.88, 21.13, 55.92, 34.8 , 29.2 , 57.79,\n",
       "       14.29, 19.88, 19.88, 19.26,  3.73, 24.23, 19.88, 21.13, 49.71,\n",
       "       24.85, 41.01])"
      ]
     },
     "execution_count": 26,
     "metadata": {},
     "output_type": "execute_result"
    }
   ],
   "source": [
    "xtest[:,0]"
   ]
  },
  {
   "cell_type": "code",
   "execution_count": 81,
   "id": "ffeaf796-421a-43b2-bd70-9a2d39c3694a",
   "metadata": {},
   "outputs": [
    {
     "name": "stdout",
     "output_type": "stream",
     "text": [
      "range(0, 30)\n"
     ]
    },
    {
     "data": {
      "image/png": "[encoded data removed]",
      "text/plain": [
       "<Figure size 1296x720 with 1 Axes>"
      ]
     },
     "metadata": {
      "needs_background": "light"
     },
     "output_type": "display_data"
    },
    {
     "data": {
      "text/plain": [
       "<Figure size 432x288 with 0 Axes>"
      ]
     },
     "metadata": {},
     "output_type": "display_data"
    }
   ],
   "source": [
    "import matplotlib.pyplot as plt\n",
    "%matplotlib inline\n",
    "\n",
    "target = pf['t']\n",
    "pred = pf['p']\n",
    "\n",
    "e = range(0,len(pred))\n",
    "print(e)\n",
    "et = Time[:20]\n",
    "fig = plt.gcf()\n",
    "fig.set_size_inches(18,10)\n",
    "plt.plot(e, target, 'b', label='Target' )\n",
    "plt.plot(e, pred, 'r',label='Predictions' )\n",
    "plt.xlabel('Time', fontsize=20)\n",
    "plt.ylabel('Speed', fontsize=20)\n",
    "plt.title('predictions vs target')\n",
    "plt.legend()\n",
    "plt.figure()\n",
    "plt.show()"
   ]
  },
  {
   "cell_type": "code",
   "execution_count": 82,
   "id": "80efb508-0c69-485e-babf-d843ce96917d",
   "metadata": {},
   "outputs": [],
   "source": [
    "mse = []\n",
    "mae = []\n",
    "mape = []\n",
    "acc = []\n",
    "for i in range(len(pf['t'])):\n",
    "    e1 = (np.subtract(pf['t'][i],pf['p'][i])**2).mean()\n",
    "    e2 = np.abs(pf['p'][i] - xtest[:,0][i])\n",
    "    e3 = np.abs( (pf['t'][i] - pf['p'][i])/pf['t'][i] )\n",
    "    p1 = pf['t'][i]/pf['p'][i]\n",
    "    mse.append(e1)\n",
    "    mae.append(e2)\n",
    "    mape.append(e3)\n",
    "    acc.append(p1)"
   ]
  },
  {
   "cell_type": "code",
   "execution_count": null,
   "id": "32355c68-e6f5-435b-853e-5812f236b35e",
   "metadata": {},
   "outputs": [],
   "source": [
    "import pickle\n",
    "pickle_out = open(\"mse.pkl\",\"wb\")\n",
    "pickle.dump(mse, pickle_out)\n",
    "pickle_out.close()"
   ]
  },
  {
   "cell_type": "code",
   "execution_count": null,
   "id": "861cad47-86eb-4bb1-9b22-418892a70938",
   "metadata": {},
   "outputs": [],
   "source": [
    "pickle_out = open(\"mape.pkl\",\"wb\")\n",
    "pickle.dump(mape, pickle_out)\n",
    "pickle_out.close()"
   ]
  },
  {
   "cell_type": "code",
   "execution_count": null,
   "id": "4144bfa0-dd24-4d36-a91e-063d5ac68695",
   "metadata": {},
   "outputs": [],
   "source": []
  },
  {
   "cell_type": "code",
   "execution_count": 83,
   "id": "ded6f7e7-5274-443a-bed3-ff964d3b3658",
   "metadata": {},
   "outputs": [
    {
     "name": "stdout",
     "output_type": "stream",
     "text": [
      "range(0, 30)\n"
     ]
    },
    {
     "data": {
      "image/png": "[encoded data removed]",
      "text/plain": [
       "<Figure size 1296x720 with 1 Axes>"
      ]
     },
     "metadata": {
      "needs_background": "light"
     },
     "output_type": "display_data"
    },
    {
     "data": {
      "text/plain": [
       "<Figure size 432x288 with 0 Axes>"
      ]
     },
     "metadata": {},
     "output_type": "display_data"
    }
   ],
   "source": [
    "e = range(0,len(pred))\n",
    "print(e)\n",
    "#et = Time[:20]\n",
    "fig = plt.gcf()\n",
    "fig.set_size_inches(18,10)\n",
    "plt.plot(e, mse, 'b', label='Error' )\n",
    "plt.xlabel('Time_step', fontsize=20)\n",
    "plt.title('MSE - predictions vs target')\n",
    "plt.legend()\n",
    "plt.figure()\n",
    "plt.show()"
   ]
  },
  {
   "cell_type": "code",
   "execution_count": 84,
   "id": "0e0e0373-a157-4454-bbd7-7d6ae385ad40",
   "metadata": {},
   "outputs": [
    {
     "data": {
      "image/png": "[encoded data removed]",
      "text/plain": [
       "<Figure size 1296x720 with 1 Axes>"
      ]
     },
     "metadata": {
      "needs_background": "light"
     },
     "output_type": "display_data"
    },
    {
     "data": {
      "text/plain": [
       "<Figure size 432x288 with 0 Axes>"
      ]
     },
     "metadata": {},
     "output_type": "display_data"
    }
   ],
   "source": [
    "fig = plt.gcf()\n",
    "fig.set_size_inches(18,10)\n",
    "plt.plot(e, mae, 'b', label='Error' )\n",
    "plt.xlabel('Time_step', fontsize=20)\n",
    "plt.title('MAE - predictions vs target')\n",
    "plt.legend()\n",
    "plt.figure()\n",
    "plt.show()"
   ]
  },
  {
   "cell_type": "code",
   "execution_count": 85,
   "id": "a0818cc8-b314-4390-9291-2d1d5ea0fae8",
   "metadata": {},
   "outputs": [
    {
     "data": {
      "image/png": "[encoded data removed]",
      "text/plain": [
       "<Figure size 1296x720 with 1 Axes>"
      ]
     },
     "metadata": {
      "needs_background": "light"
     },
     "output_type": "display_data"
    },
    {
     "data": {
      "text/plain": [
       "<Figure size 432x288 with 0 Axes>"
      ]
     },
     "metadata": {},
     "output_type": "display_data"
    }
   ],
   "source": [
    "fig = plt.gcf()\n",
    "fig.set_size_inches(18,10)\n",
    "plt.plot(e, mape, 'b', label='Error' )\n",
    "plt.xlabel('Time_step', fontsize=20)\n",
    "plt.title('MAPE - predictions vs target')\n",
    "plt.legend()\n",
    "plt.figure()\n",
    "plt.show()"
   ]
  },
  {
   "cell_type": "code",
   "execution_count": 86,
   "id": "44285d96",
   "metadata": {},
   "outputs": [
    {
     "data": {
      "text/html": [
       "<div>\n",
       "<style scoped>\n",
       "    .dataframe tbody tr th:only-of-type {\n",
       "        vertical-align: middle;\n",
       "    }\n",
       "\n",
       "    .dataframe tbody tr th {\n",
       "        vertical-align: top;\n",
       "    }\n",
       "\n",
       "    .dataframe thead th {\n",
       "        text-align: right;\n",
       "    }\n",
       "</style>\n",
       "<table border=\"1\" class=\"dataframe\">\n",
       "  <thead>\n",
       "    <tr style=\"text-align: right;\">\n",
       "      <th></th>\n",
       "      <th>mse</th>\n",
       "      <th>mape</th>\n",
       "      <th>mae</th>\n",
       "    </tr>\n",
       "  </thead>\n",
       "  <tbody>\n",
       "    <tr>\n",
       "      <th>0</th>\n",
       "      <td>25.404939</td>\n",
       "      <td>0.14328</td>\n",
       "      <td>3.303722</td>\n",
       "    </tr>\n",
       "  </tbody>\n",
       "</table>\n",
       "</div>"
      ],
      "text/plain": [
       "         mse     mape       mae\n",
       "0  25.404939  0.14328  3.303722"
      ]
     },
     "execution_count": 86,
     "metadata": {},
     "output_type": "execute_result"
    }
   ],
   "source": [
    "mse_sum = 0\n",
    "mae_sum = 0\n",
    "mape_sum = 0\n",
    "acc_sum = 0\n",
    "\n",
    "for i in range(len(mse)):\n",
    "    mse_sum = mse_sum + mse[i]\n",
    "    mae_sum = mae_sum + mae[i]\n",
    "    mape_sum = mape_sum + mape[i]\n",
    "    acc_sum = acc_sum + acc[i]\n",
    "\n",
    "rep={'mse': mse_sum/len(mse),\n",
    "     'mape': mape_sum/len(mse),\n",
    "     'mae': mae_sum/len(mse) \n",
    "     'acc': acc_sum/len(acc)\n",
    "}\n",
    "df_errors = pd.DataFrame(data=rep)\n",
    "df_errors\n"
   ]
  },
  {
   "cell_type": "code",
   "execution_count": null,
   "id": "01a55680",
   "metadata": {},
   "outputs": [],
   "source": []
  }
 ],
 "metadata": {
  "kernelspec": {
   "display_name": "Python 3 (ipykernel)",
   "language": "python",
   "name": "python3"
  },
  "language_info": {
   "codemirror_mode": {
    "name": "ipython",
    "version": 3
   },
   "file_extension": ".py",
   "mimetype": "text/x-python",
   "name": "python",
   "nbconvert_exporter": "python",
   "pygments_lexer": "ipython3",
   "version": "3.9.6"
  }
 },
 "nbformat": 4,
 "nbformat_minor": 5
}
